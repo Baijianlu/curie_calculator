{
 "cells": [
  {
   "cell_type": "code",
   "execution_count": 1,
   "metadata": {},
   "outputs": [],
   "source": [
    "import os\n",
    "import curie_calculator"
   ]
  },
  {
   "cell_type": "code",
   "execution_count": 2,
   "metadata": {},
   "outputs": [
    {
     "name": "stderr",
     "output_type": "stream",
     "text": [
      "100%|██████████| 15/15 [00:00<00:00, 230.23it/s]"
     ]
    },
    {
     "name": "stdout",
     "output_type": "stream",
     "text": [
      "Generated 15 supercells\n"
     ]
    },
    {
     "name": "stderr",
     "output_type": "stream",
     "text": [
      "\n"
     ]
    }
   ],
   "source": [
    "number_of_structures = 15\n",
    "input_folder = 'examples/Bi-Mn/'\n",
    "# os.chdir('/Users/dmitry.volkov/Desktop/WorkFlow/exchange/')\n",
    "\n",
    "curie_calculator.run_enum(input_folder)\n",
    "curie_calculator.get_structures(num_of_structures=number_of_structures)\n",
    "curie_calculator.vasp_inputs_creator(num_of_structures=number_of_structures)\n",
    "curie_calculator.siman_inputs_creator(num_of_structures=number_of_structures)\n",
    "curie_calculator.enum_out_collector()\n",
    "\n",
    "# Copy all the necessary inputs to Oleg cluster"
   ]
  },
  {
   "cell_type": "markdown",
   "metadata": {},
   "source": [
    "# Clean all"
   ]
  },
  {
   "cell_type": "code",
   "execution_count": 4,
   "metadata": {
    "scrolled": false
   },
   "outputs": [
    {
     "name": "stderr",
     "output_type": "stream",
     "text": [
      "100%|██████████| 23/23 [00:00<00:00, 1946.67it/s]\n"
     ]
    }
   ],
   "source": [
    "import os\n",
    "import curie_calculator\n",
    "# os.chdir('EuO')\n",
    "curie_calculator.clean_all()"
   ]
  },
  {
   "cell_type": "code",
   "execution_count": null,
   "metadata": {},
   "outputs": [],
   "source": []
  }
 ],
 "metadata": {
  "kernelspec": {
   "display_name": "Python 3",
   "language": "python",
   "name": "python3"
  },
  "language_info": {
   "codemirror_mode": {
    "name": "ipython",
    "version": 3
   },
   "file_extension": ".py",
   "mimetype": "text/x-python",
   "name": "python",
   "nbconvert_exporter": "python",
   "pygments_lexer": "ipython3",
   "version": "3.8.6"
  }
 },
 "nbformat": 4,
 "nbformat_minor": 4
}
