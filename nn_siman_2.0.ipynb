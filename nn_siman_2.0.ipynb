{
 "cells": [
  {
   "cell_type": "code",
   "execution_count": 1,
   "metadata": {},
   "outputs": [],
   "source": [
    "from curie_calculator import get_results, plot_results\n",
    "import matplotlib.pyplot as plt\n",
    "\n",
    "FAKE_MAGNETIC_ATOMS = ['Po', 'Mn']\n",
    "input_folder = 'examples/Bi-Mn/'\n",
    "num_of_structures = 12\n",
    "SPIN = 5/2\n",
    "\n",
    "out_dict = get_results(input_folder, num_of_structures, FAKE_MAGNETIC_ATOMS, SPIN)\n",
    "\n",
    "Tcs = out_dict['Tc_list']\n",
    "\n",
    "plot_results(Tcs)"
   ]
  }
 ],
 "metadata": {
  "kernelspec": {
   "display_name": "Python 3",
   "language": "python",
   "name": "python3"
  },
  "language_info": {
   "codemirror_mode": {
    "name": "ipython",
    "version": 3
   },
   "file_extension": ".py",
   "mimetype": "text/x-python",
   "name": "python",
   "nbconvert_exporter": "python",
   "pygments_lexer": "ipython3",
   "version": "3.8.6"
  }
 },
 "nbformat": 4,
 "nbformat_minor": 4
}
