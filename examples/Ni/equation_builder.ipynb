{
 "cells": [
  {
   "cell_type": "code",
   "execution_count": 1,
   "metadata": {},
   "outputs": [],
   "source": [
    "import siman\n",
    "from siman.calc_manage import smart_structure_read\n",
    "import os\n",
    "import numpy as np\n",
    "from tqdm import tqdm\n",
    "from scipy.constants import physical_constants\n",
    "POSCARS_DIR_PATH = './siman_rdy'\n",
    "k_B = physical_constants['Boltzmann constant in eV/K'][0]\n",
    "FAKE_MAGNETIC_ATOMS = ['Fe', 'Ni']"
   ]
  },
  {
   "cell_type": "code",
   "execution_count": 2,
   "metadata": {},
   "outputs": [],
   "source": [
    "def count_nn(path_to_poscar, magnetic_atoms):\n",
    "\n",
    "    \"\"\"\n",
    "    calculated the number of nearest neighbors,\n",
    "    to fit into the Heisenberg model.\n",
    "    Get a path to POSCAR structure as an input, \n",
    "    To avoid errors one should use prettified POSCAR,\n",
    "    use poscar_prettifier() function first.\n",
    "    \n",
    "    Parameters:\n",
    "        poscar_path(str) - path to the POSCAR file\n",
    "        magnetic_atoms(list) - two type of atoms to be treated as a magnetic\n",
    "                            with an opposite spins (up/down).\n",
    "                            your POSCAR should contain this two types of atoms.\n",
    "    Returns:\n",
    "        dict(distance : number_of_neibours) \n",
    "    \"\"\"\n",
    "    if not os.path.exists(path_to_poscar):\n",
    "        print(f'File {path_to_poscar} does not exist!')\n",
    "        return None\n",
    "    st = smart_structure_read(path_to_poscar)\n",
    "    st = st.replic([6, 6, 6])\n",
    "    out = st.nn(i = 1, n = 50, silent=1)\n",
    "    \n",
    "    a = list(zip(out['el'][1:], out['dist'][1:]))\n",
    "    unique_dist = set(round(i[1], 3) for i in a if i[0] in magnetic_atoms) #collect all the unique distances\n",
    "    magnetic_dist_lst = [(el, round(dist, 3)) for el, dist in a if el in magnetic_atoms]\n",
    "\n",
    "    dist_neighbNum = {_: 0 for _ in unique_dist} #key- distane, value list of \n",
    "                                                #neighbours at 1st 2nd 3d coordination spheres\n",
    "\n",
    "    for dist in unique_dist:\n",
    "        for el, distance in magnetic_dist_lst:\n",
    "            if dist == distance:\n",
    "                if el == magnetic_atoms[0]:\n",
    "                    dist_neighbNum[dist] += 1\n",
    "                elif el == magnetic_atoms[1]:\n",
    "                    dist_neighbNum[dist] -= 1\n",
    "    return dist_neighbNum"
   ]
  },
  {
   "cell_type": "code",
   "execution_count": 3,
   "metadata": {
    "scrolled": true
   },
   "outputs": [],
   "source": [
    "def get_coefficients(poscars_to_check, up_to=2):\n",
    "    \"\"\"\n",
    "    As a result this function will return coefficients,\n",
    "    For E0, J1 and J2 for the Hisenber model in a form of matrix.\n",
    "    Combaining obtained matrix with calculated energies (E_afm) of AFM configurations,\n",
    "    One can calculate E0, J1, J2, solving a system of linear equations.\n",
    "    \n",
    "    Args:\n",
    "        poscars_to_check - List of paths to POCARs files that should be checked.\n",
    "        up_to - how many coordinations spheres to check, default check first two.\n",
    "        \n",
    "    Example:\n",
    "        poscars_to_check = ['/EuO/POSCARS2siman/POSCAR_1',\n",
    "                            '/EuO/POSCARS2siman/POSCAR_2',\n",
    "                            '/EuO/POSCARS2siman/POSCAR_3']\n",
    "        get_coefficients(poscars_to_check)\n",
    "        >>> np.array([[0,  6],\n",
    "                      [4, -6],\n",
    "                      [-6,  0]]\n",
    "    \"\"\"\n",
    "    nn_matrix = []\n",
    "    for path_to_poscar in tqdm(poscars_to_check):\n",
    "        nn_ls = list(count_nn(path_to_poscar, magnetic_atoms=FAKE_MAGNETIC_ATOMS).values()) #get a list with number of nearest\n",
    "                                                        #neighbours for the structure\n",
    "        nn_matrix.append(nn_ls) #add list to he matrix\n",
    "    nn_matrix = np.array(nn_matrix)\n",
    "    return nn_matrix[...,:up_to]"
   ]
  },
  {
   "cell_type": "code",
   "execution_count": 4,
   "metadata": {
    "scrolled": true
   },
   "outputs": [],
   "source": [
    "def get_exchange_couplings(nn_matrix, energies_afm, spin):\n",
    "    \"\"\"\n",
    "    Returns three float numbers: E0, J1, J2 respectively.\n",
    "        E0 - is the part of total energy independent of the spin configuration\n",
    "        J1, J2 - are the first and second nearest neighbor exchange constants\n",
    "    \n",
    "    Example:\n",
    "        nn_matrix = np.array([[ 0  6],\n",
    "                              [ 4 -6],\n",
    "                              [-6  0]])\n",
    "\n",
    "        energies_afm = np.array([-41.614048,\n",
    "                                 -41.611114,\n",
    "                                 -41.59929])\n",
    "                                 \n",
    "        get_exchange_coeff(nn_matrix, energies_afm)\n",
    "        >>>-41.609258249999996 -0.00010548412698408951 -5.068518518515268e-05\n",
    "    \"\"\"\n",
    "    nn_matrix = nn_matrix * spin * (spin + 1)\n",
    "    nn_matrix = np.append(np.ones([len(nn_matrix),1]), nn_matrix, 1)\n",
    "    E0, J1, J2 = np.linalg.solve(nn_matrix, energies_afm)\n",
    "    return E0, J1, J2"
   ]
  },
  {
   "cell_type": "code",
   "execution_count": 5,
   "metadata": {},
   "outputs": [],
   "source": [
    "def calculate_Tc(J1, J2, z1, z2):\n",
    "    T_c = (J1 * z1 + J2 * z2) / (3 * k_B)\n",
    "    return T_c"
   ]
  },
  {
   "cell_type": "code",
   "execution_count": 6,
   "metadata": {},
   "outputs": [],
   "source": [
    "def afm_energies_getter():\n",
    "    \"\"\"\n",
    "    Returns an numpy array with an energies of AntiFerromagnetic configurations,\n",
    "    calculated by VASP, take as\n",
    "    \"\"\"\n",
    "    return np.array([E1, E2, E3])"
   ]
  },
  {
   "cell_type": "code",
   "execution_count": 7,
   "metadata": {},
   "outputs": [],
   "source": [
    "def total_num_neighbours(path_to_poscar, magnetic_atoms):\n",
    "    \"\"\"\n",
    "    Return total number of magnetic_atoms in first,\n",
    "    second and third coordination spheres z1, z2, z3 respectively.\n",
    "    Since this number is constant for particular structure and will be the\n",
    "    same for all generated supercells you can use whatever POSCAR file you want.\n",
    "    \n",
    "    Args:\n",
    "        magnetic_atoms(list) - list of atoms which suppose to be magnetic in given structure.\n",
    "        e.g [Fe, Co] or just [Fe] if there is only one type of magnetic atoms.\n",
    "    \n",
    "    Example:\n",
    "        path_to_poscar = './vasp_inputs/afm3/POSCAR'\n",
    "        total_num_neighbours(path_to_poscar, magnetic_atoms = ['Eu'])\n",
    "        >>> (12, 6, 24)\n",
    "    \n",
    "    \"\"\"\n",
    "    if not os.path.exists(path_to_poscar):\n",
    "        print(f'File {path_to_poscar} does not exist!')\n",
    "    st = smart_structure_read(path_to_poscar)\n",
    "    st = st.replic([6, 6, 6])\n",
    "    out = st.nn(i = 1, n = 100, silent=1)\n",
    "\n",
    "    a = list(zip(out['el'][1:], out['dist'][1:]))\n",
    "\n",
    "    unique_dist = set(round(i[1], 3) for i in a if i[0] in magnetic_atoms) #collect all the unique distances\n",
    "    magnetic_dist_lst = [round(dist, 3) for el, dist in a if el in magnetic_atoms]\n",
    "\n",
    "    nn_num_lst = [magnetic_dist_lst.count(dist) for dist in unique_dist]\n",
    "\n",
    "    z1 = nn_num_lst[0]\n",
    "    z2 = nn_num_lst[1]\n",
    "    z3 = nn_num_lst[2]\n",
    "    return z1, z2, z3"
   ]
  },
  {
   "cell_type": "markdown",
   "metadata": {},
   "source": [
    "# MAIN"
   ]
  },
  {
   "cell_type": "markdown",
   "metadata": {},
   "source": [
    "### Initital guess about structure for AFM sp calc"
   ]
  },
  {
   "cell_type": "code",
   "execution_count": 8,
   "metadata": {},
   "outputs": [],
   "source": [
    "poscars_to_check = [os.path.join(POSCARS_DIR_PATH, f'POSCAR_{i}') for i in range(1, 8)]"
   ]
  },
  {
   "cell_type": "code",
   "execution_count": 9,
   "metadata": {
    "scrolled": true
   },
   "outputs": [
    {
     "name": "stderr",
     "output_type": "stream",
     "text": [
      "100%|██████████| 7/7 [00:19<00:00,  2.82s/it]"
     ]
    },
    {
     "name": "stdout",
     "output_type": "stream",
     "text": [
      "1 [ 0 -6]\n",
      "2 [-4  6]\n",
      "3 [6 0]\n",
      "4 [ 0 -2]\n",
      "5 [-2  0]\n",
      "6 [4 2]\n",
      "7 [-4  2]\n"
     ]
    },
    {
     "name": "stderr",
     "output_type": "stream",
     "text": [
      "\n"
     ]
    }
   ],
   "source": [
    "for num, nn in enumerate(get_coefficients(poscars_to_check)):\n",
    "    print(num + 1, nn)"
   ]
  },
  {
   "cell_type": "code",
   "execution_count": 10,
   "metadata": {},
   "outputs": [],
   "source": [
    "En_dict = {1 : -10.865399,\n",
    "2 : -10.862496,\n",
    "3 : -21.782196 / 2,\n",
    "4 : -21.726645 / 2,\n",
    "5 : -21.726243 / 2,\n",
    "6 : -21.731572 / 2,\n",
    "7 : -21.730572 / 2}\n",
    "\n",
    "id_of_structures = [2, 3, 4]"
   ]
  },
  {
   "cell_type": "code",
   "execution_count": 11,
   "metadata": {},
   "outputs": [
    {
     "data": {
      "text/plain": [
       "{1: -10.865399,\n",
       " 2: -10.862496,\n",
       " 3: -10.891098,\n",
       " 4: -10.8633225,\n",
       " 5: -10.8631215,\n",
       " 6: -10.865786,\n",
       " 7: -10.865286}"
      ]
     },
     "execution_count": 11,
     "metadata": {},
     "output_type": "execute_result"
    }
   ],
   "source": [
    "En_dict"
   ]
  },
  {
   "cell_type": "code",
   "execution_count": 12,
   "metadata": {},
   "outputs": [],
   "source": [
    "energies_afm = np.array([En_dict[i] for i in id_of_structures])\n",
    "\n",
    "poscars_to_check = [os.path.join(POSCARS_DIR_PATH, f'POSCAR_{i}') for i in id_of_structures]"
   ]
  },
  {
   "cell_type": "markdown",
   "metadata": {},
   "source": [
    "---"
   ]
  },
  {
   "cell_type": "code",
   "execution_count": 13,
   "metadata": {},
   "outputs": [
    {
     "name": "stderr",
     "output_type": "stream",
     "text": [
      "\r",
      "  0%|          | 0/3 [00:00<?, ?it/s]"
     ]
    },
    {
     "name": "stdout",
     "output_type": "stream",
     "text": [
      "z1 : 12 , z2 : 6, z3 : 24\n"
     ]
    },
    {
     "name": "stderr",
     "output_type": "stream",
     "text": [
      "100%|██████████| 3/3 [00:08<00:00,  2.74s/it]"
     ]
    },
    {
     "name": "stdout",
     "output_type": "stream",
     "text": [
      "E0 : -10.867113321428572 , J1 : -0.005329928571428375, J2 : -0.0025272142857141033\n"
     ]
    },
    {
     "name": "stderr",
     "output_type": "stream",
     "text": [
      "\n"
     ]
    }
   ],
   "source": [
    "z1, z2, z3 = total_num_neighbours(path_to_poscar='./siman_rdy/POSCAR_1', magnetic_atoms=FAKE_MAGNETIC_ATOMS)\n",
    "print(f'z1 : {z1} , z2 : {z2}, z3 : {z3}')\n",
    "nn_matrix = get_coefficients(poscars_to_check)\n",
    "E0, J1, J2 = get_exchange_couplings(nn_matrix, energies_afm, spin=1/2)\n",
    "print(f'E0 : {E0} , J1 : {J1}, J2 : {J2}')\n",
    "Tc = calculate_Tc(J1, J2, z1=z1, z2=z2)"
   ]
  },
  {
   "cell_type": "code",
   "execution_count": 14,
   "metadata": {},
   "outputs": [
    {
     "name": "stdout",
     "output_type": "stream",
     "text": [
      "-306.1 K\n"
     ]
    }
   ],
   "source": [
    "print(f'{Tc:.1f} K')"
   ]
  },
  {
   "cell_type": "code",
   "execution_count": null,
   "metadata": {},
   "outputs": [],
   "source": []
  }
 ],
 "metadata": {
  "kernelspec": {
   "display_name": "Python 3",
   "language": "python",
   "name": "python3"
  },
  "language_info": {
   "codemirror_mode": {
    "name": "ipython",
    "version": 3
   },
   "file_extension": ".py",
   "mimetype": "text/x-python",
   "name": "python",
   "nbconvert_exporter": "python",
   "pygments_lexer": "ipython3",
   "version": "3.8.6"
  }
 },
 "nbformat": 4,
 "nbformat_minor": 4
}
