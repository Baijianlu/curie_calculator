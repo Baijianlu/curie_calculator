{
 "cells": [
  {
   "cell_type": "code",
   "execution_count": 16,
   "metadata": {},
   "outputs": [],
   "source": [
    "import os\n",
    "import sys\n",
    "from shutil import copy, rmtree\n",
    "from tqdm import tqdm\n",
    "\n",
    "import numpy as np\n",
    "\n",
    "PATH_TO_ENUMLIB = '/Users/dmitry.volkov/enumlib'"
   ]
  },
  {
   "cell_type": "code",
   "execution_count": 17,
   "metadata": {},
   "outputs": [],
   "source": [
    "def create_job_script(path, job_id='JobName'):\n",
    "    \"\"\"\n",
    "    material_id(str) - preferable name of your job in squeue,\n",
    "    and also the name of the folder for your vasp files.\n",
    "    as a result in the folder with name 'material_id' will be created job scrypt\n",
    "    \"\"\"\n",
    "    job_script_text = f\"\"\"#!/bin/bash\n",
    "#SBATCH -t 02:00:00\n",
    "#SBATCH -N 1\n",
    "#SBATCH -n 8\n",
    "#SBATCH -J {job_id}\n",
    "#SBATCH --output=log\n",
    "#SBATCH --error=err\n",
    "\n",
    "module load mpi/impi-5.0.3 intel/mkl-11.2.3 vasp/vasp-5.4.4\n",
    "mpirun vasp_std\"\"\"\n",
    "    with open(f'{path}/jobscript', 'w') as job:\n",
    "        job.writelines(job_script_text)"
   ]
  },
  {
   "cell_type": "code",
   "execution_count": 18,
   "metadata": {},
   "outputs": [],
   "source": [
    "def get_number_of_structures(enum_out='struct_enum.out'):\n",
    "    \"\"\"\n",
    "    Read file 'struct_enum.out' and\n",
    "    returns number of generated supercells after\n",
    "    the work of enum.x\n",
    "    \"\"\"\n",
    "    with open(\"struct_enum.out\", \"r\") as file:\n",
    "        lastline = (list(file)[-1])\n",
    "        num_of_structures = int(lastline[:11])\n",
    "    return num_of_structures"
   ]
  },
  {
   "cell_type": "code",
   "execution_count": 19,
   "metadata": {},
   "outputs": [],
   "source": [
    "def get_vasp_structures(path_to_enum=PATH_TO_ENUMLIB, number_of_structures=None):\n",
    "    \"\"\"\n",
    "    This function read 'struct_enum.out'\n",
    "    and generate POSCAR type files for all produced supercells.\n",
    "    \"\"\"\n",
    "    if not number_of_structures:\n",
    "        number_of_structures = get_number_of_structures() #int number of generated supercells\n",
    "    makeStrPath = os.path.join(PATH_TO_ENUMLIB, 'aux_src/makeStr.py')\n",
    "    os.system(f'python {makeStrPath} 1 {number_of_structures}')\n",
    "    print(f'Generated {number_of_structures} supercells')"
   ]
  },
  {
   "cell_type": "code",
   "execution_count": 20,
   "metadata": {
    "scrolled": true
   },
   "outputs": [],
   "source": [
    "def vasp_inputs_creator(atom_types, atom_ratio, num_of_structures=None, out_dir='vasp_inputs', input_directory='user_inputs'):\n",
    "    if not os.path.exists(out_dir):\n",
    "        os.mkdir(out_dir)\n",
    "    current_path = os.getcwd()\n",
    "    if not num_of_structures:\n",
    "        num_of_structures = get_number_of_structures()\n",
    "    for i in tqdm(range(num_of_structures)):\n",
    "        tmp_path = os.path.join(current_path, out_dir, f'afm{i + 1}')\n",
    "        os.makedirs(tmp_path, exist_ok=True)\n",
    "        create_job_script(tmp_path, job_id=f'afm{i + 1}')\n",
    "        poscar_prettifier(in_path=f'vasp.{i + 1}',\n",
    "                          out_path=os.path.join(tmp_path, 'POSCAR'),\n",
    "                         atom_types=atom_types,\n",
    "                         atom_ratio=atom_ratio)\n",
    "        copy(os.path.join(input_directory, 'INCAR'), os.path.join(tmp_path, 'INCAR'))\n",
    "        copy(os.path.join(input_directory, 'POTCAR'), os.path.join(tmp_path, 'POTCAR'))\n",
    "        copy(os.path.join(input_directory, 'KPOINTS'), os.path.join(tmp_path, 'KPOINTS'))"
   ]
  },
  {
   "cell_type": "code",
   "execution_count": 21,
   "metadata": {},
   "outputs": [],
   "source": [
    "def poscar_prettifier(in_path, out_path, atom_types, atom_ratio):\n",
    "    \"\"\"\n",
    "    Make the POSCAR readable for the SIMAN software\n",
    "    Keeping it fully functional for VASP calculations.\n",
    "    \n",
    "    Parameters:\n",
    "        in_path(str) - path for the POSCAR to prettifiy\n",
    "        out_path(str) - preferable path & filename for output pretiffyed POSCAR\n",
    "                        is path not exists it will be created\n",
    "        atom_types(str) - type of atoms you wanna see on a 6th row\n",
    "        atom_ratio(str) - preferable ratio of specified atoms\n",
    "    \"\"\"\n",
    "    out_dir, out_file_name = os.path.split(out_path)\n",
    "    \n",
    "    if not os.path.exists(out_dir):\n",
    "        os.mkdir(out_dir)\n",
    "        \n",
    "    out = open(f\"{out_path}\", \"wt\")\n",
    "    \n",
    "    with open(f'{in_path}', 'rt') as f:\n",
    "        in_text = f.readlines()\n",
    "    in_text[5] = f'{atom_types}\\n'\n",
    "    in_text[6] = f'{atom_ratio}\\ndirect\\n'\n",
    "\n",
    "    for st in in_text:\n",
    "        if st.startswith('  '):\n",
    "            st = st.replace('  ', '', 1)\n",
    "        elif st.startswith(' '):\n",
    "            st = st.replace(' ', '', 1)\n",
    "        out.write(st)\n",
    "    out.close()"
   ]
  },
  {
   "cell_type": "code",
   "execution_count": 22,
   "metadata": {},
   "outputs": [],
   "source": [
    "def ratio_corrector(in_path):\n",
    "    with open(in_path, 'r') as in_file:\n",
    "        in_data = in_file.readlines()\n",
    "    \n",
    "    init_ratio = [int(i) for i in in_data[6].split()]\n",
    "    current_ratio = int(len(in_data[8 :]) / sum(init_ratio))\n",
    "    true_ratio = ' '.join([str(current_ratio * i) for i in init_ratio]) + '\\n'\n",
    "    in_data[6] = true_ratio\n",
    "    with open(in_path, 'w') as out_file:\n",
    "        out_file.writelines(in_data)"
   ]
  },
  {
   "cell_type": "code",
   "execution_count": 23,
   "metadata": {},
   "outputs": [],
   "source": [
    "def clean_all():\n",
    "    vasp_usless = [file for file in os.listdir() if 'vasp.' in file]\n",
    "    usless_files = ['debug_conc_check.out',\n",
    "                    'debug_dvec_rots.out',\n",
    "                    'debug_get_rotation_perms_lists.out',\n",
    "                    'debug_site_restrictions.out',\n",
    "                    'readcheck_enum.out',\n",
    "                    'symops_enum_parent_lattice.out',\n",
    "                    'VERSION.enum',\n",
    "                   'struct_enum.out'\n",
    "                   ] + vasp_usless\n",
    "    for file in tqdm(usless_files):\n",
    "        try:\n",
    "            os.remove(file)\n",
    "        except:\n",
    "            continue\n",
    "    rmtree('./vasp_inputs/', ignore_errors=True)\n",
    "    rmtree('./siman_rdy/', ignore_errors=True)"
   ]
  },
  {
   "cell_type": "markdown",
   "metadata": {},
   "source": [
    "# Main"
   ]
  },
  {
   "cell_type": "code",
   "execution_count": 24,
   "metadata": {},
   "outputs": [],
   "source": [
    "def generate_structures(in_path, out_path):\n",
    "    enum_exe_path = os.path.join(PATH_TO_ENUMLIB, 'src/enum.x')\n",
    "\n",
    "    os.system(enum_exe_path)\n",
    "\n",
    "    usless_files = ['debug_conc_check.out',\n",
    "                    'debug_dvec_rots.out',\n",
    "                    'debug_get_rotation_perms_lists.out',\n",
    "                    'debug_site_restrictions.out',\n",
    "                    'readcheck_enum.out',\n",
    "                    'symops_enum_parent_lattice.out',\n",
    "                    'VERSION.enum']\n",
    "\n",
    "    for file in usless_files:\n",
    "        try:\n",
    "            os.remove(file)\n",
    "        except:\n",
    "            continue"
   ]
  },
  {
   "cell_type": "code",
   "execution_count": 25,
   "metadata": {},
   "outputs": [
    {
     "name": "stdout",
     "output_type": "stream",
     "text": [
      "There are: 130 structures\n"
     ]
    }
   ],
   "source": [
    "print(f'There are: {get_number_of_structures()} structures')"
   ]
  },
  {
   "cell_type": "code",
   "execution_count": 26,
   "metadata": {},
   "outputs": [
    {
     "name": "stdout",
     "output_type": "stream",
     "text": [
      "Generated 10 supercells\n"
     ]
    }
   ],
   "source": [
    "get_vasp_structures(number_of_structures=10)"
   ]
  },
  {
   "cell_type": "code",
   "execution_count": 27,
   "metadata": {
    "scrolled": true
   },
   "outputs": [
    {
     "name": "stderr",
     "output_type": "stream",
     "text": [
      "100%|██████████| 10/10 [00:00<00:00, 352.45it/s]\n"
     ]
    }
   ],
   "source": [
    "vasp_inputs_creator(atom_types='Fe B', atom_ratio='4 2', num_of_structures=10)"
   ]
  },
  {
   "cell_type": "code",
   "execution_count": 13,
   "metadata": {},
   "outputs": [],
   "source": [
    "for i in range(1, 10):\n",
    "    in_path = f'vasp_inputs/afm{i}/POSCAR'\n",
    "    ratio_corrector(in_path)"
   ]
  },
  {
   "cell_type": "code",
   "execution_count": 14,
   "metadata": {},
   "outputs": [],
   "source": [
    "for i in range(1, 5):\n",
    "    poscar_prettifier(f'vasp.{i}',\n",
    "                      f'siman_rdy/POSCAR_{i}',\n",
    "                      atom_types='Fe Co B',\n",
    "                      atom_ratio='2 2 2')\n",
    "    \n",
    "for i in range(5, 10 + 1):\n",
    "    poscar_prettifier(f'vasp.{i}',\n",
    "                      f'siman_rdy/POSCAR_{i}',\n",
    "                      atom_types='Fe Co B',\n",
    "                      atom_ratio='4 4 4')"
   ]
  },
  {
   "cell_type": "code",
   "execution_count": 15,
   "metadata": {
    "scrolled": false
   },
   "outputs": [
    {
     "name": "stderr",
     "output_type": "stream",
     "text": [
      "100%|██████████| 18/18 [00:00<00:00, 3718.90it/s]\n"
     ]
    }
   ],
   "source": [
    "clean_all()"
   ]
  },
  {
   "cell_type": "code",
   "execution_count": null,
   "metadata": {},
   "outputs": [],
   "source": []
  }
 ],
 "metadata": {
  "kernelspec": {
   "display_name": "Python 3",
   "language": "python",
   "name": "python3"
  },
  "language_info": {
   "codemirror_mode": {
    "name": "ipython",
    "version": 3
   },
   "file_extension": ".py",
   "mimetype": "text/x-python",
   "name": "python",
   "nbconvert_exporter": "python",
   "pygments_lexer": "ipython3",
   "version": "3.8.6"
  }
 },
 "nbformat": 4,
 "nbformat_minor": 4
}
