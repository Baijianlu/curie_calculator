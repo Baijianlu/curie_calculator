{
 "cells": [
  {
   "cell_type": "code",
   "execution_count": 6,
   "metadata": {},
   "outputs": [],
   "source": [
    "import os\n",
    "\n",
    "def poscar_cleaner(in_data):\n",
    "    out_data = []\n",
    "    for st in in_data:\n",
    "        if st.startswith('  '):\n",
    "            st = st.replace('  ', '', 1)\n",
    "            out_data.append(st)\n",
    "        elif st.startswith(' '):\n",
    "            st = st.replace(' ', '', 1)\n",
    "            out_data.append(st)\n",
    "        else:\n",
    "            out_data.append(st)\n",
    "    return out_data\n",
    "\n",
    "def ratio_corrector(in_data):\n",
    "    out_data = in_data.copy()\n",
    "    stech_str = in_data[0].split(' str #:')[0]\n",
    "    uncorrected_stechiometry = [int(i) for i in stech_str if i.isnumeric()]\n",
    "    righ_ratio = int(len(in_data[7:]) / sum(uncorrected_stechiometry))\n",
    "    corrected_stechiometry = [(righ_ratio * num) for num in uncorrected_stechiometry]\n",
    "    ' '.join(str(i) for i in corrected_stechiometry)\n",
    "    out_data[5] = ' '.join(str(i) for i in corrected_stechiometry) + '\\n'\n",
    "    out_data[6] = 'direct\\n'\n",
    "    return out_data\n",
    "\n",
    "def atom_type_corrector(in_data, custom_atom_type=None):\n",
    "    out_data = in_data.copy()\n",
    "    if custom_atom_type:\n",
    "        out_data[5] = custom_atom_type + '\\n'+ in_data[5]\n",
    "    else:\n",
    "        stech_str = in_data[0].split(' str #:')[0]\n",
    "        right_atom_type = ''.join([i for i in stech_str if not i.isnumeric()])\n",
    "        out_data[5] = right_atom_type + '\\n'+ in_data[5] \n",
    "    return out_data\n",
    "\n",
    "def poscar_pretiffier(in_path, out_path='l'):\n",
    "    with open(in_path) as in_f:\n",
    "        in_data = in_f.readlines()\n",
    "           \n",
    "    out_data = atom_type_corrector(ratio_corrector(poscar_cleaner(in_data)))\n",
    "    \n",
    "    with open(out_path, 'w') as out_f:\n",
    "        out_f.writelines(out_data)\n",
    "\n",
    "if __name__ == 'main':\n",
    "    poscar_pretiffier('vasp.1', 'vasp.1_new')"
   ]
  }
 ],
 "metadata": {
  "kernelspec": {
   "display_name": "Python 3",
   "language": "python",
   "name": "python3"
  },
  "language_info": {
   "codemirror_mode": {
    "name": "ipython",
    "version": 3
   },
   "file_extension": ".py",
   "mimetype": "text/x-python",
   "name": "python",
   "nbconvert_exporter": "python",
   "pygments_lexer": "ipython3",
   "version": "3.8.6"
  }
 },
 "nbformat": 4,
 "nbformat_minor": 4
}
