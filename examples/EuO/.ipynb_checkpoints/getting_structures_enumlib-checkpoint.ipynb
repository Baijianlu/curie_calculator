{
 "cells": [
  {
   "cell_type": "code",
   "execution_count": 1,
   "metadata": {},
   "outputs": [],
   "source": [
    "import os\n",
    "import sys\n",
    "from shutil import copy, rmtree\n",
    "from tqdm import tqdm\n",
    "\n",
    "PATH_TO_ENUMLIB = '/Users/dmitry.volkov/enumlib'"
   ]
  },
  {
   "cell_type": "code",
   "execution_count": 2,
   "metadata": {},
   "outputs": [],
   "source": [
    "def create_job_script(path, job_id='JobName'):\n",
    "    \"\"\"\n",
    "    material_id(str) - preferable name of your job in squeue,\n",
    "    and also the name of the folder for your vasp files.\n",
    "    as a result in the folder with name 'material_id' will be created job scrypt\n",
    "    \"\"\"\n",
    "    job_script_text = f\"\"\"#!/bin/bash\n",
    "#SBATCH -t 01:00:00\n",
    "#SBATCH -N 1\n",
    "#SBATCH -n 4\n",
    "#SBATCH -J {job_id}\n",
    "#SBATCH --output=log\n",
    "#SBATCH --error=err\n",
    "\n",
    "module load mpi/impi-5.0.3 intel/mkl-11.2.3 vasp/vasp-5.4.4\n",
    "mpirun vasp_std\"\"\"\n",
    "    with open(f'{path}/jobscript', 'w') as job:\n",
    "        job.writelines(job_script_text)"
   ]
  },
  {
   "cell_type": "code",
   "execution_count": 3,
   "metadata": {},
   "outputs": [],
   "source": [
    "def get_number_of_structures(enum_out='struct_enum.out'):\n",
    "    \"\"\"\n",
    "    Read file 'struct_enum.out' and\n",
    "    returns number of generated supercells after\n",
    "    the work of enum.x\n",
    "    \"\"\"\n",
    "    with open(\"struct_enum.out\", \"r\") as file:\n",
    "        lastline = (list(file)[-1])\n",
    "        num_of_structures = int(lastline[:11])\n",
    "#         print(num_of_structures)\n",
    "    return num_of_structures"
   ]
  },
  {
   "cell_type": "code",
   "execution_count": 4,
   "metadata": {},
   "outputs": [],
   "source": [
    "def get_vasp_structures(path_to_enum=PATH_TO_ENUMLIB):\n",
    "    \"\"\"\n",
    "    This function read 'struct_enum.out'\n",
    "    and generate POSCAR type files for all produced supercells.\n",
    "    \"\"\"\n",
    "    number_of_structures = get_number_of_structures() #int number of generated supercells\n",
    "    makeStrPath = os.path.join(PATH_TO_ENUMLIB, 'aux_src/makeStr.py')\n",
    "    os.system(f'python {makeStrPath} 1 {number_of_structures}')\n",
    "    print(f'Generated {number_of_structures} supercells')"
   ]
  },
  {
   "cell_type": "code",
   "execution_count": 5,
   "metadata": {
    "scrolled": true
   },
   "outputs": [],
   "source": [
    "def vasp_inputs_creator(out_dir='vasp_inputs', input_directory='user_inputs'):\n",
    "    if not os.path.exists(out_dir):\n",
    "        os.mkdir(out_dir)\n",
    "    current_path = os.getcwd()\n",
    "    num_of_structures = get_number_of_structures()\n",
    "    for i in tqdm(range(num_of_structures)):\n",
    "        tmp_path = os.path.join(current_path, out_dir, f'afm{i + 1}')\n",
    "        os.makedirs(tmp_path, exist_ok=True)\n",
    "        create_job_script(tmp_path, job_id=f'afm{i + 1}')\n",
    "        poscar_prettifier(in_path=f'vasp.{i + 1}', out_path=os.path.join(tmp_path, 'POSCAR'))\n",
    "        copy(os.path.join(input_directory, 'INCAR'), os.path.join(tmp_path, 'INCAR'))\n",
    "        copy(os.path.join(input_directory, 'POTCAR'), os.path.join(tmp_path, 'POTCAR'))\n",
    "        copy(os.path.join(input_directory, 'KPOINTS'), os.path.join(tmp_path, 'KPOINTS'))\n",
    "        print(f'Created: {tmp_path}')"
   ]
  },
  {
   "cell_type": "code",
   "execution_count": 6,
   "metadata": {},
   "outputs": [],
   "source": [
    "def poscar_prettifier(in_path, out_path, atom_types='Eu O', atom_ratio='2 2'):\n",
    "    \"\"\"\n",
    "    Make the POSCAR readable for the SIMAN software\n",
    "    Keeping it fully functional for VASP calculations.\n",
    "    \n",
    "    Parameters:\n",
    "        in_path(str) - path for the POSCAR to prettifiy\n",
    "        out_path(str) - preferable path & filename for output pretiffyed POSCAR\n",
    "                        is path not exists it will be created\n",
    "        atom_types(str) - type of atoms you wanna see on a 6th row\n",
    "        atom_ratio(str) - preferable ratio of specified atoms\n",
    "    \"\"\"\n",
    "    out_dir, out_file_name = os.path.split(out_path)\n",
    "    \n",
    "    if not os.path.exists(out_dir):\n",
    "        os.mkdir(out_dir)\n",
    "        \n",
    "    out = open(f\"{out_path}\", \"wt\")\n",
    "    \n",
    "    with open(f'{in_path}', 'rt') as f:\n",
    "        in_text = f.readlines()\n",
    "    in_text[5] = f'{atom_types}\\n'\n",
    "    in_text[6] = f'{atom_ratio}\\ndirect\\n'\n",
    "\n",
    "    for st in in_text:\n",
    "        if st.startswith('  '):\n",
    "            st = st.replace('  ', '', 1)\n",
    "        elif st.startswith(' '):\n",
    "            st = st.replace(' ', '', 1)\n",
    "        out.write(st)\n",
    "    out.close()\n",
    "    print(f'{out_path} is prettified')"
   ]
  },
  {
   "cell_type": "code",
   "execution_count": 7,
   "metadata": {},
   "outputs": [],
   "source": [
    "def coefficients_getter():\n",
    "    \"\"\"Read generated and pretified POSCARS\n",
    "    and estimate number of the nearest magnetic neighbours\"\"\"\n",
    "    pass"
   ]
  },
  {
   "cell_type": "code",
   "execution_count": 8,
   "metadata": {},
   "outputs": [],
   "source": [
    "def clean_all():\n",
    "    vasp_usless = [f'vasp.{i}' for i in range(1, get_number_of_structures() + 1)]\n",
    "    usless_files = ['debug_conc_check.out',\n",
    "                    'debug_dvec_rots.out',\n",
    "                    'debug_get_rotation_perms_lists.out',\n",
    "                    'debug_site_restrictions.out',\n",
    "                    'readcheck_enum.out',\n",
    "                    'symops_enum_parent_lattice.out',\n",
    "                    'VERSION.enum',\n",
    "                   'struct_enum.out'\n",
    "                   ] + vasp_usless\n",
    "    for file in tqdm(usless_files):\n",
    "        try:\n",
    "            os.remove(file)\n",
    "        except:\n",
    "            print(f'File {file} already removed!')\n",
    "    rmtree('./vasp_inputs/', ignore_errors=True)\n",
    "    rmtree('./siman_rdy/', ignore_errors=True)"
   ]
  },
  {
   "cell_type": "markdown",
   "metadata": {},
   "source": [
    "# Main"
   ]
  },
  {
   "cell_type": "code",
   "execution_count": 9,
   "metadata": {},
   "outputs": [],
   "source": [
    "enum_exe_path = os.path.join(PATH_TO_ENUMLIB, 'src/enum.x')"
   ]
  },
  {
   "cell_type": "code",
   "execution_count": 10,
   "metadata": {},
   "outputs": [
    {
     "data": {
      "text/plain": [
       "0"
      ]
     },
     "execution_count": 10,
     "metadata": {},
     "output_type": "execute_result"
    }
   ],
   "source": [
    "input_directory = 'user_inputs'\n",
    "\n",
    "os.system(enum_exe_path)"
   ]
  },
  {
   "cell_type": "code",
   "execution_count": 11,
   "metadata": {},
   "outputs": [
    {
     "name": "stderr",
     "output_type": "stream",
     "text": [
      "100%|██████████| 35/35 [00:00<00:00, 216.99it/s]"
     ]
    },
    {
     "name": "stdout",
     "output_type": "stream",
     "text": [
      "Generated 35 supercells\n",
      "/Users/dmitry.volkov/Desktop/WorkFlow/exchange/EuO_2/vasp_inputs/afm1/POSCAR is prettified\n",
      "Created: /Users/dmitry.volkov/Desktop/WorkFlow/exchange/EuO_2/vasp_inputs/afm1\n",
      "/Users/dmitry.volkov/Desktop/WorkFlow/exchange/EuO_2/vasp_inputs/afm2/POSCAR is prettified\n",
      "Created: /Users/dmitry.volkov/Desktop/WorkFlow/exchange/EuO_2/vasp_inputs/afm2\n",
      "/Users/dmitry.volkov/Desktop/WorkFlow/exchange/EuO_2/vasp_inputs/afm3/POSCAR is prettified\n",
      "Created: /Users/dmitry.volkov/Desktop/WorkFlow/exchange/EuO_2/vasp_inputs/afm3\n",
      "/Users/dmitry.volkov/Desktop/WorkFlow/exchange/EuO_2/vasp_inputs/afm4/POSCAR is prettified\n",
      "Created: /Users/dmitry.volkov/Desktop/WorkFlow/exchange/EuO_2/vasp_inputs/afm4\n",
      "/Users/dmitry.volkov/Desktop/WorkFlow/exchange/EuO_2/vasp_inputs/afm5/POSCAR is prettified\n",
      "Created: /Users/dmitry.volkov/Desktop/WorkFlow/exchange/EuO_2/vasp_inputs/afm5\n",
      "/Users/dmitry.volkov/Desktop/WorkFlow/exchange/EuO_2/vasp_inputs/afm6/POSCAR is prettified\n",
      "Created: /Users/dmitry.volkov/Desktop/WorkFlow/exchange/EuO_2/vasp_inputs/afm6\n",
      "/Users/dmitry.volkov/Desktop/WorkFlow/exchange/EuO_2/vasp_inputs/afm7/POSCAR is prettified\n",
      "Created: /Users/dmitry.volkov/Desktop/WorkFlow/exchange/EuO_2/vasp_inputs/afm7\n",
      "/Users/dmitry.volkov/Desktop/WorkFlow/exchange/EuO_2/vasp_inputs/afm8/POSCAR is prettified\n",
      "Created: /Users/dmitry.volkov/Desktop/WorkFlow/exchange/EuO_2/vasp_inputs/afm8\n",
      "/Users/dmitry.volkov/Desktop/WorkFlow/exchange/EuO_2/vasp_inputs/afm9/POSCAR is prettified\n",
      "Created: /Users/dmitry.volkov/Desktop/WorkFlow/exchange/EuO_2/vasp_inputs/afm9\n",
      "/Users/dmitry.volkov/Desktop/WorkFlow/exchange/EuO_2/vasp_inputs/afm10/POSCAR is prettified\n",
      "Created: /Users/dmitry.volkov/Desktop/WorkFlow/exchange/EuO_2/vasp_inputs/afm10\n",
      "/Users/dmitry.volkov/Desktop/WorkFlow/exchange/EuO_2/vasp_inputs/afm11/POSCAR is prettified\n",
      "Created: /Users/dmitry.volkov/Desktop/WorkFlow/exchange/EuO_2/vasp_inputs/afm11\n",
      "/Users/dmitry.volkov/Desktop/WorkFlow/exchange/EuO_2/vasp_inputs/afm12/POSCAR is prettified\n",
      "Created: /Users/dmitry.volkov/Desktop/WorkFlow/exchange/EuO_2/vasp_inputs/afm12\n",
      "/Users/dmitry.volkov/Desktop/WorkFlow/exchange/EuO_2/vasp_inputs/afm13/POSCAR is prettified\n",
      "Created: /Users/dmitry.volkov/Desktop/WorkFlow/exchange/EuO_2/vasp_inputs/afm13\n",
      "/Users/dmitry.volkov/Desktop/WorkFlow/exchange/EuO_2/vasp_inputs/afm14/POSCAR is prettified\n",
      "Created: /Users/dmitry.volkov/Desktop/WorkFlow/exchange/EuO_2/vasp_inputs/afm14\n",
      "/Users/dmitry.volkov/Desktop/WorkFlow/exchange/EuO_2/vasp_inputs/afm15/POSCAR is prettified\n",
      "Created: /Users/dmitry.volkov/Desktop/WorkFlow/exchange/EuO_2/vasp_inputs/afm15\n",
      "/Users/dmitry.volkov/Desktop/WorkFlow/exchange/EuO_2/vasp_inputs/afm16/POSCAR is prettified\n",
      "Created: /Users/dmitry.volkov/Desktop/WorkFlow/exchange/EuO_2/vasp_inputs/afm16\n",
      "/Users/dmitry.volkov/Desktop/WorkFlow/exchange/EuO_2/vasp_inputs/afm17/POSCAR is prettified\n",
      "Created: /Users/dmitry.volkov/Desktop/WorkFlow/exchange/EuO_2/vasp_inputs/afm17\n",
      "/Users/dmitry.volkov/Desktop/WorkFlow/exchange/EuO_2/vasp_inputs/afm18/POSCAR is prettified\n",
      "Created: /Users/dmitry.volkov/Desktop/WorkFlow/exchange/EuO_2/vasp_inputs/afm18\n",
      "/Users/dmitry.volkov/Desktop/WorkFlow/exchange/EuO_2/vasp_inputs/afm19/POSCAR is prettified\n",
      "Created: /Users/dmitry.volkov/Desktop/WorkFlow/exchange/EuO_2/vasp_inputs/afm19\n",
      "/Users/dmitry.volkov/Desktop/WorkFlow/exchange/EuO_2/vasp_inputs/afm20/POSCAR is prettified\n",
      "Created: /Users/dmitry.volkov/Desktop/WorkFlow/exchange/EuO_2/vasp_inputs/afm20\n",
      "/Users/dmitry.volkov/Desktop/WorkFlow/exchange/EuO_2/vasp_inputs/afm21/POSCAR is prettified\n",
      "Created: /Users/dmitry.volkov/Desktop/WorkFlow/exchange/EuO_2/vasp_inputs/afm21\n",
      "/Users/dmitry.volkov/Desktop/WorkFlow/exchange/EuO_2/vasp_inputs/afm22/POSCAR is prettified\n",
      "Created: /Users/dmitry.volkov/Desktop/WorkFlow/exchange/EuO_2/vasp_inputs/afm22\n",
      "/Users/dmitry.volkov/Desktop/WorkFlow/exchange/EuO_2/vasp_inputs/afm23/POSCAR is prettified\n",
      "Created: /Users/dmitry.volkov/Desktop/WorkFlow/exchange/EuO_2/vasp_inputs/afm23\n",
      "/Users/dmitry.volkov/Desktop/WorkFlow/exchange/EuO_2/vasp_inputs/afm24/POSCAR is prettified\n",
      "Created: /Users/dmitry.volkov/Desktop/WorkFlow/exchange/EuO_2/vasp_inputs/afm24\n",
      "/Users/dmitry.volkov/Desktop/WorkFlow/exchange/EuO_2/vasp_inputs/afm25/POSCAR is prettified\n",
      "Created: /Users/dmitry.volkov/Desktop/WorkFlow/exchange/EuO_2/vasp_inputs/afm25\n",
      "/Users/dmitry.volkov/Desktop/WorkFlow/exchange/EuO_2/vasp_inputs/afm26/POSCAR is prettified\n",
      "Created: /Users/dmitry.volkov/Desktop/WorkFlow/exchange/EuO_2/vasp_inputs/afm26\n",
      "/Users/dmitry.volkov/Desktop/WorkFlow/exchange/EuO_2/vasp_inputs/afm27/POSCAR is prettified\n",
      "Created: /Users/dmitry.volkov/Desktop/WorkFlow/exchange/EuO_2/vasp_inputs/afm27\n",
      "/Users/dmitry.volkov/Desktop/WorkFlow/exchange/EuO_2/vasp_inputs/afm28/POSCAR is prettified\n",
      "Created: /Users/dmitry.volkov/Desktop/WorkFlow/exchange/EuO_2/vasp_inputs/afm28\n",
      "/Users/dmitry.volkov/Desktop/WorkFlow/exchange/EuO_2/vasp_inputs/afm29/POSCAR is prettified\n",
      "Created: /Users/dmitry.volkov/Desktop/WorkFlow/exchange/EuO_2/vasp_inputs/afm29\n",
      "/Users/dmitry.volkov/Desktop/WorkFlow/exchange/EuO_2/vasp_inputs/afm30/POSCAR is prettified\n",
      "Created: /Users/dmitry.volkov/Desktop/WorkFlow/exchange/EuO_2/vasp_inputs/afm30\n",
      "/Users/dmitry.volkov/Desktop/WorkFlow/exchange/EuO_2/vasp_inputs/afm31/POSCAR is prettified\n",
      "Created: /Users/dmitry.volkov/Desktop/WorkFlow/exchange/EuO_2/vasp_inputs/afm31\n",
      "/Users/dmitry.volkov/Desktop/WorkFlow/exchange/EuO_2/vasp_inputs/afm32/POSCAR is prettified\n",
      "Created: /Users/dmitry.volkov/Desktop/WorkFlow/exchange/EuO_2/vasp_inputs/afm32\n",
      "/Users/dmitry.volkov/Desktop/WorkFlow/exchange/EuO_2/vasp_inputs/afm33/POSCAR is prettified\n",
      "Created: /Users/dmitry.volkov/Desktop/WorkFlow/exchange/EuO_2/vasp_inputs/afm33\n",
      "/Users/dmitry.volkov/Desktop/WorkFlow/exchange/EuO_2/vasp_inputs/afm34/POSCAR is prettified\n",
      "Created: /Users/dmitry.volkov/Desktop/WorkFlow/exchange/EuO_2/vasp_inputs/afm34\n",
      "/Users/dmitry.volkov/Desktop/WorkFlow/exchange/EuO_2/vasp_inputs/afm35/POSCAR is prettified\n",
      "Created: /Users/dmitry.volkov/Desktop/WorkFlow/exchange/EuO_2/vasp_inputs/afm35\n"
     ]
    },
    {
     "name": "stderr",
     "output_type": "stream",
     "text": [
      "\n"
     ]
    }
   ],
   "source": [
    "current_path = os.getcwd()\n",
    "get_vasp_structures()\n",
    "vasp_inputs_creator()"
   ]
  },
  {
   "cell_type": "code",
   "execution_count": 13,
   "metadata": {},
   "outputs": [
    {
     "name": "stdout",
     "output_type": "stream",
     "text": [
      "siman_rdy/POSCAR_1 is prettified\n",
      "siman_rdy/POSCAR_2 is prettified\n",
      "siman_rdy/POSCAR_3 is prettified\n",
      "siman_rdy/POSCAR_4 is prettified\n",
      "siman_rdy/POSCAR_5 is prettified\n",
      "siman_rdy/POSCAR_6 is prettified\n",
      "siman_rdy/POSCAR_7 is prettified\n",
      "siman_rdy/POSCAR_8 is prettified\n",
      "siman_rdy/POSCAR_9 is prettified\n",
      "siman_rdy/POSCAR_10 is prettified\n",
      "siman_rdy/POSCAR_11 is prettified\n",
      "siman_rdy/POSCAR_12 is prettified\n",
      "siman_rdy/POSCAR_13 is prettified\n",
      "siman_rdy/POSCAR_14 is prettified\n",
      "siman_rdy/POSCAR_15 is prettified\n",
      "siman_rdy/POSCAR_16 is prettified\n",
      "siman_rdy/POSCAR_17 is prettified\n",
      "siman_rdy/POSCAR_18 is prettified\n",
      "siman_rdy/POSCAR_19 is prettified\n",
      "siman_rdy/POSCAR_20 is prettified\n",
      "siman_rdy/POSCAR_21 is prettified\n",
      "siman_rdy/POSCAR_22 is prettified\n",
      "siman_rdy/POSCAR_23 is prettified\n",
      "siman_rdy/POSCAR_24 is prettified\n",
      "siman_rdy/POSCAR_25 is prettified\n",
      "siman_rdy/POSCAR_26 is prettified\n",
      "siman_rdy/POSCAR_27 is prettified\n",
      "siman_rdy/POSCAR_28 is prettified\n",
      "siman_rdy/POSCAR_29 is prettified\n",
      "siman_rdy/POSCAR_30 is prettified\n",
      "siman_rdy/POSCAR_31 is prettified\n",
      "siman_rdy/POSCAR_32 is prettified\n",
      "siman_rdy/POSCAR_33 is prettified\n",
      "siman_rdy/POSCAR_34 is prettified\n",
      "siman_rdy/POSCAR_35 is prettified\n"
     ]
    }
   ],
   "source": [
    "for i in range(1, 8):\n",
    "    poscar_prettifier(f'vasp.{i}',\n",
    "                      f'siman_rdy/POSCAR_{i}',\n",
    "                      atom_types='Eu Sm O',\n",
    "                      atom_ratio='1 1 2')\n",
    "    \n",
    "for i in range(8, get_number_of_structures() + 1):\n",
    "    poscar_prettifier(f'vasp.{i}',\n",
    "                      f'siman_rdy/POSCAR_{i}',\n",
    "                      atom_types='Eu Sm O',\n",
    "                      atom_ratio='2 2 4')"
   ]
  },
  {
   "cell_type": "code",
   "execution_count": 10,
   "metadata": {
    "scrolled": false
   },
   "outputs": [],
   "source": [
    "#  clean_all() "
   ]
  },
  {
   "cell_type": "code",
   "execution_count": null,
   "metadata": {},
   "outputs": [],
   "source": []
  }
 ],
 "metadata": {
  "kernelspec": {
   "display_name": "Python 3",
   "language": "python",
   "name": "python3"
  },
  "language_info": {
   "codemirror_mode": {
    "name": "ipython",
    "version": 3
   },
   "file_extension": ".py",
   "mimetype": "text/x-python",
   "name": "python",
   "nbconvert_exporter": "python",
   "pygments_lexer": "ipython3",
   "version": "3.8.6"
  }
 },
 "nbformat": 4,
 "nbformat_minor": 4
}
