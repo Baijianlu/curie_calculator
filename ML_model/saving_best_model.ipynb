{
 "cells": [
  {
   "cell_type": "markdown",
   "metadata": {},
   "source": [
    "# Saving best model\n",
    "Saving model with the best perfomance XGboost in a form of json files as well as nexessary for the preprocessing MinMax scaler"
   ]
  },
  {
   "cell_type": "code",
   "execution_count": 1,
   "metadata": {},
   "outputs": [],
   "source": [
    "import pandas as pd\n",
    "import numpy as np\n",
    "from pymatgen.core import Composition\n",
    "\n",
    "import warnings\n",
    "warnings.filterwarnings('ignore')\n",
    "\n",
    "seed = 0\n",
    "np.random.seed(seed)\n",
    "\n",
    "from matminer.featurizers.conversions import StrToComposition\n",
    "from matminer.featurizers.composition import ElementProperty, ElementFraction\n",
    "from matminer.featurizers import composition as cf\n",
    "from matminer.featurizers.base import MultipleFeaturizer\n",
    "\n",
    "from sklearn.preprocessing import MinMaxScaler\n",
    "\n",
    "from pickle import dump"
   ]
  },
  {
   "cell_type": "code",
   "execution_count": 2,
   "metadata": {},
   "outputs": [],
   "source": [
    "df = pd.read_csv('data/raw_data.csv')\n",
    "df = df.rename(columns={'Tc (K)':'T_c', 'Name': 'formula'})\n",
    "df = df.drop(['Source', 'Page'], axis=1)\n",
    "df = df[df['T_c'] > 2]\n",
    "df = df.groupby('formula', as_index=False).median()"
   ]
  },
  {
   "cell_type": "code",
   "execution_count": 4,
   "metadata": {},
   "outputs": [
    {
     "data": {
      "application/vnd.jupyter.widget-view+json": {
       "model_id": "3222ed867e104fc6a9083b720cb8dcb5",
       "version_major": 2,
       "version_minor": 0
      },
      "text/plain": [
       "HBox(children=(HTML(value='StrToComposition'), FloatProgress(value=0.0, max=2522.0), HTML(value='')))"
      ]
     },
     "metadata": {},
     "output_type": "display_data"
    },
    {
     "name": "stdout",
     "output_type": "stream",
     "text": [
      "\n"
     ]
    },
    {
     "data": {
      "application/vnd.jupyter.widget-view+json": {
       "model_id": "744cb5a32be54a968306a5e936a05ea2",
       "version_major": 2,
       "version_minor": 0
      },
      "text/plain": [
       "HBox(children=(HTML(value='MultipleFeaturizer'), FloatProgress(value=0.0, max=2522.0), HTML(value='')))"
      ]
     },
     "metadata": {},
     "output_type": "display_data"
    },
    {
     "name": "stdout",
     "output_type": "stream",
     "text": [
      "\n"
     ]
    },
    {
     "data": {
      "application/vnd.jupyter.widget-view+json": {
       "model_id": "e05c02e90bac49e38183b0bcd11113db",
       "version_major": 2,
       "version_minor": 0
      },
      "text/plain": [
       "HBox(children=(HTML(value='ElementFraction'), FloatProgress(value=0.0, max=2522.0), HTML(value='')))"
      ]
     },
     "metadata": {},
     "output_type": "display_data"
    },
    {
     "name": "stdout",
     "output_type": "stream",
     "text": [
      "\n"
     ]
    }
   ],
   "source": [
    "feature_calculators = MultipleFeaturizer([cf.Stoichiometry(),\n",
    "                                          cf.ElementProperty.from_preset(\"magpie\"),\n",
    "                                          cf.ValenceOrbital(props=['avg']),\n",
    "                                          cf.IonProperty(fast=True)])\n",
    "\n",
    "\n",
    "df = StrToComposition().featurize_dataframe(df, 'formula')\n",
    "df = feature_calculators.featurize_dataframe(df, col_id='composition')\n",
    "\n",
    "ep = ElementFraction()\n",
    "\n",
    "df = ep.featurize_dataframe(df, 'composition')"
   ]
  },
  {
   "cell_type": "code",
   "execution_count": 5,
   "metadata": {},
   "outputs": [],
   "source": [
    "feature_labels = feature_calculators.feature_labels()\n",
    "original_count = len(df)\n",
    "df = df[~ df[feature_labels].isnull().any(axis=1)]\n",
    "df.columns = [column_name.replace(\" \", \"_\") for column_name in df.columns]\n",
    "for column in df.columns[9:-110]:\n",
    "    df.rename(columns={column:column[11:]}, inplace=True)"
   ]
  },
  {
   "cell_type": "code",
   "execution_count": 43,
   "metadata": {},
   "outputs": [
    {
     "data": {
      "text/html": [
       "<div>\n",
       "<style scoped>\n",
       "    .dataframe tbody tr th:only-of-type {\n",
       "        vertical-align: middle;\n",
       "    }\n",
       "\n",
       "    .dataframe tbody tr th {\n",
       "        vertical-align: top;\n",
       "    }\n",
       "\n",
       "    .dataframe thead th {\n",
       "        text-align: right;\n",
       "    }\n",
       "</style>\n",
       "<table border=\"1\" class=\"dataframe\">\n",
       "  <thead>\n",
       "    <tr style=\"text-align: right;\">\n",
       "      <th></th>\n",
       "      <th>formula</th>\n",
       "      <th>T_c</th>\n",
       "      <th>composition</th>\n",
       "      <th>0-norm</th>\n",
       "      <th>2-norm</th>\n",
       "      <th>3-norm</th>\n",
       "      <th>5-norm</th>\n",
       "      <th>7-norm</th>\n",
       "      <th>10-norm</th>\n",
       "      <th>minimum_Number</th>\n",
       "      <th>...</th>\n",
       "      <th>Hg</th>\n",
       "      <th>Tl</th>\n",
       "      <th>Pb</th>\n",
       "      <th>Bi</th>\n",
       "      <th>Th</th>\n",
       "      <th>U</th>\n",
       "      <th>Np</th>\n",
       "      <th>Pu</th>\n",
       "      <th>Am</th>\n",
       "      <th>Cm</th>\n",
       "    </tr>\n",
       "  </thead>\n",
       "  <tbody>\n",
       "    <tr>\n",
       "      <th>0</th>\n",
       "      <td>(Ce0.7La0.3)3Al11</td>\n",
       "      <td>3.70</td>\n",
       "      <td>(Ce, La, Al)</td>\n",
       "      <td>3</td>\n",
       "      <td>0.802483</td>\n",
       "      <td>0.787675</td>\n",
       "      <td>0.785755</td>\n",
       "      <td>0.785715</td>\n",
       "      <td>0.785714</td>\n",
       "      <td>13.0</td>\n",
       "      <td>...</td>\n",
       "      <td>0.0</td>\n",
       "      <td>0.0</td>\n",
       "      <td>0.0</td>\n",
       "      <td>0.0</td>\n",
       "      <td>0.0</td>\n",
       "      <td>0.0</td>\n",
       "      <td>0.0</td>\n",
       "      <td>0.0</td>\n",
       "      <td>0.0</td>\n",
       "      <td>0.0</td>\n",
       "    </tr>\n",
       "    <tr>\n",
       "      <th>1</th>\n",
       "      <td>(Ce0.9La0.1)3Al11</td>\n",
       "      <td>5.40</td>\n",
       "      <td>(Ce, La, Al)</td>\n",
       "      <td>3</td>\n",
       "      <td>0.809321</td>\n",
       "      <td>0.789574</td>\n",
       "      <td>0.785854</td>\n",
       "      <td>0.785720</td>\n",
       "      <td>0.785714</td>\n",
       "      <td>13.0</td>\n",
       "      <td>...</td>\n",
       "      <td>0.0</td>\n",
       "      <td>0.0</td>\n",
       "      <td>0.0</td>\n",
       "      <td>0.0</td>\n",
       "      <td>0.0</td>\n",
       "      <td>0.0</td>\n",
       "      <td>0.0</td>\n",
       "      <td>0.0</td>\n",
       "      <td>0.0</td>\n",
       "      <td>0.0</td>\n",
       "    </tr>\n",
       "    <tr>\n",
       "      <th>2</th>\n",
       "      <td>(Co0.38Fe0.62)2P</td>\n",
       "      <td>459.00</td>\n",
       "      <td>(Co, Fe, P)</td>\n",
       "      <td>3</td>\n",
       "      <td>0.588331</td>\n",
       "      <td>0.498544</td>\n",
       "      <td>0.443835</td>\n",
       "      <td>0.426933</td>\n",
       "      <td>0.418187</td>\n",
       "      <td>15.0</td>\n",
       "      <td>...</td>\n",
       "      <td>0.0</td>\n",
       "      <td>0.0</td>\n",
       "      <td>0.0</td>\n",
       "      <td>0.0</td>\n",
       "      <td>0.0</td>\n",
       "      <td>0.0</td>\n",
       "      <td>0.0</td>\n",
       "      <td>0.0</td>\n",
       "      <td>0.0</td>\n",
       "      <td>0.0</td>\n",
       "    </tr>\n",
       "    <tr>\n",
       "      <th>3</th>\n",
       "      <td>(Co0.4Fe0.6)2P</td>\n",
       "      <td>453.00</td>\n",
       "      <td>(Co, Fe, P)</td>\n",
       "      <td>3</td>\n",
       "      <td>0.584998</td>\n",
       "      <td>0.493242</td>\n",
       "      <td>0.435713</td>\n",
       "      <td>0.416972</td>\n",
       "      <td>0.406636</td>\n",
       "      <td>15.0</td>\n",
       "      <td>...</td>\n",
       "      <td>0.0</td>\n",
       "      <td>0.0</td>\n",
       "      <td>0.0</td>\n",
       "      <td>0.0</td>\n",
       "      <td>0.0</td>\n",
       "      <td>0.0</td>\n",
       "      <td>0.0</td>\n",
       "      <td>0.0</td>\n",
       "      <td>0.0</td>\n",
       "      <td>0.0</td>\n",
       "    </tr>\n",
       "    <tr>\n",
       "      <th>4</th>\n",
       "      <td>(Co0.4Mn0.6)2P</td>\n",
       "      <td>445.00</td>\n",
       "      <td>(Co, Mn, P)</td>\n",
       "      <td>3</td>\n",
       "      <td>0.584998</td>\n",
       "      <td>0.493242</td>\n",
       "      <td>0.435713</td>\n",
       "      <td>0.416972</td>\n",
       "      <td>0.406636</td>\n",
       "      <td>15.0</td>\n",
       "      <td>...</td>\n",
       "      <td>0.0</td>\n",
       "      <td>0.0</td>\n",
       "      <td>0.0</td>\n",
       "      <td>0.0</td>\n",
       "      <td>0.0</td>\n",
       "      <td>0.0</td>\n",
       "      <td>0.0</td>\n",
       "      <td>0.0</td>\n",
       "      <td>0.0</td>\n",
       "      <td>0.0</td>\n",
       "    </tr>\n",
       "    <tr>\n",
       "      <th>...</th>\n",
       "      <td>...</td>\n",
       "      <td>...</td>\n",
       "      <td>...</td>\n",
       "      <td>...</td>\n",
       "      <td>...</td>\n",
       "      <td>...</td>\n",
       "      <td>...</td>\n",
       "      <td>...</td>\n",
       "      <td>...</td>\n",
       "      <td>...</td>\n",
       "      <td>...</td>\n",
       "      <td>...</td>\n",
       "      <td>...</td>\n",
       "      <td>...</td>\n",
       "      <td>...</td>\n",
       "      <td>...</td>\n",
       "      <td>...</td>\n",
       "      <td>...</td>\n",
       "      <td>...</td>\n",
       "      <td>...</td>\n",
       "      <td>...</td>\n",
       "    </tr>\n",
       "    <tr>\n",
       "      <th>2517</th>\n",
       "      <td>ZrMn2H3.6</td>\n",
       "      <td>146.50</td>\n",
       "      <td>(Zr, Mn, H)</td>\n",
       "      <td>3</td>\n",
       "      <td>0.642110</td>\n",
       "      <td>0.578487</td>\n",
       "      <td>0.551282</td>\n",
       "      <td>0.546728</td>\n",
       "      <td>0.545607</td>\n",
       "      <td>1.0</td>\n",
       "      <td>...</td>\n",
       "      <td>0.0</td>\n",
       "      <td>0.0</td>\n",
       "      <td>0.0</td>\n",
       "      <td>0.0</td>\n",
       "      <td>0.0</td>\n",
       "      <td>0.0</td>\n",
       "      <td>0.0</td>\n",
       "      <td>0.0</td>\n",
       "      <td>0.0</td>\n",
       "      <td>0.0</td>\n",
       "    </tr>\n",
       "    <tr>\n",
       "      <th>2518</th>\n",
       "      <td>ZrMn2H3.8</td>\n",
       "      <td>147.00</td>\n",
       "      <td>(Zr, Mn, H)</td>\n",
       "      <td>3</td>\n",
       "      <td>0.648394</td>\n",
       "      <td>0.587843</td>\n",
       "      <td>0.563403</td>\n",
       "      <td>0.559719</td>\n",
       "      <td>0.558915</td>\n",
       "      <td>1.0</td>\n",
       "      <td>...</td>\n",
       "      <td>0.0</td>\n",
       "      <td>0.0</td>\n",
       "      <td>0.0</td>\n",
       "      <td>0.0</td>\n",
       "      <td>0.0</td>\n",
       "      <td>0.0</td>\n",
       "      <td>0.0</td>\n",
       "      <td>0.0</td>\n",
       "      <td>0.0</td>\n",
       "      <td>0.0</td>\n",
       "    </tr>\n",
       "    <tr>\n",
       "      <th>2519</th>\n",
       "      <td>ZrMn3.8H3.6</td>\n",
       "      <td>133.00</td>\n",
       "      <td>(Zr, Mn, H)</td>\n",
       "      <td>3</td>\n",
       "      <td>0.634424</td>\n",
       "      <td>0.557188</td>\n",
       "      <td>0.506784</td>\n",
       "      <td>0.487389</td>\n",
       "      <td>0.473625</td>\n",
       "      <td>1.0</td>\n",
       "      <td>...</td>\n",
       "      <td>0.0</td>\n",
       "      <td>0.0</td>\n",
       "      <td>0.0</td>\n",
       "      <td>0.0</td>\n",
       "      <td>0.0</td>\n",
       "      <td>0.0</td>\n",
       "      <td>0.0</td>\n",
       "      <td>0.0</td>\n",
       "      <td>0.0</td>\n",
       "      <td>0.0</td>\n",
       "    </tr>\n",
       "    <tr>\n",
       "      <th>2520</th>\n",
       "      <td>ZrZn1.9</td>\n",
       "      <td>26.35</td>\n",
       "      <td>(Zr, Zn)</td>\n",
       "      <td>2</td>\n",
       "      <td>0.740376</td>\n",
       "      <td>0.685579</td>\n",
       "      <td>0.660381</td>\n",
       "      <td>0.656215</td>\n",
       "      <td>0.655279</td>\n",
       "      <td>30.0</td>\n",
       "      <td>...</td>\n",
       "      <td>0.0</td>\n",
       "      <td>0.0</td>\n",
       "      <td>0.0</td>\n",
       "      <td>0.0</td>\n",
       "      <td>0.0</td>\n",
       "      <td>0.0</td>\n",
       "      <td>0.0</td>\n",
       "      <td>0.0</td>\n",
       "      <td>0.0</td>\n",
       "      <td>0.0</td>\n",
       "    </tr>\n",
       "    <tr>\n",
       "      <th>2521</th>\n",
       "      <td>ZrZn2</td>\n",
       "      <td>22.00</td>\n",
       "      <td>(Zr, Zn)</td>\n",
       "      <td>2</td>\n",
       "      <td>0.745356</td>\n",
       "      <td>0.693361</td>\n",
       "      <td>0.670782</td>\n",
       "      <td>0.667408</td>\n",
       "      <td>0.666732</td>\n",
       "      <td>30.0</td>\n",
       "      <td>...</td>\n",
       "      <td>0.0</td>\n",
       "      <td>0.0</td>\n",
       "      <td>0.0</td>\n",
       "      <td>0.0</td>\n",
       "      <td>0.0</td>\n",
       "      <td>0.0</td>\n",
       "      <td>0.0</td>\n",
       "      <td>0.0</td>\n",
       "      <td>0.0</td>\n",
       "      <td>0.0</td>\n",
       "    </tr>\n",
       "  </tbody>\n",
       "</table>\n",
       "<p>2520 rows × 224 columns</p>\n",
       "</div>"
      ],
      "text/plain": [
       "                formula     T_c   composition  0-norm    2-norm    3-norm  \\\n",
       "0     (Ce0.7La0.3)3Al11    3.70  (Ce, La, Al)       3  0.802483  0.787675   \n",
       "1     (Ce0.9La0.1)3Al11    5.40  (Ce, La, Al)       3  0.809321  0.789574   \n",
       "2      (Co0.38Fe0.62)2P  459.00   (Co, Fe, P)       3  0.588331  0.498544   \n",
       "3        (Co0.4Fe0.6)2P  453.00   (Co, Fe, P)       3  0.584998  0.493242   \n",
       "4        (Co0.4Mn0.6)2P  445.00   (Co, Mn, P)       3  0.584998  0.493242   \n",
       "...                 ...     ...           ...     ...       ...       ...   \n",
       "2517          ZrMn2H3.6  146.50   (Zr, Mn, H)       3  0.642110  0.578487   \n",
       "2518          ZrMn2H3.8  147.00   (Zr, Mn, H)       3  0.648394  0.587843   \n",
       "2519        ZrMn3.8H3.6  133.00   (Zr, Mn, H)       3  0.634424  0.557188   \n",
       "2520            ZrZn1.9   26.35      (Zr, Zn)       2  0.740376  0.685579   \n",
       "2521              ZrZn2   22.00      (Zr, Zn)       2  0.745356  0.693361   \n",
       "\n",
       "        5-norm    7-norm   10-norm  minimum_Number  ...   Hg   Tl   Pb   Bi  \\\n",
       "0     0.785755  0.785715  0.785714            13.0  ...  0.0  0.0  0.0  0.0   \n",
       "1     0.785854  0.785720  0.785714            13.0  ...  0.0  0.0  0.0  0.0   \n",
       "2     0.443835  0.426933  0.418187            15.0  ...  0.0  0.0  0.0  0.0   \n",
       "3     0.435713  0.416972  0.406636            15.0  ...  0.0  0.0  0.0  0.0   \n",
       "4     0.435713  0.416972  0.406636            15.0  ...  0.0  0.0  0.0  0.0   \n",
       "...        ...       ...       ...             ...  ...  ...  ...  ...  ...   \n",
       "2517  0.551282  0.546728  0.545607             1.0  ...  0.0  0.0  0.0  0.0   \n",
       "2518  0.563403  0.559719  0.558915             1.0  ...  0.0  0.0  0.0  0.0   \n",
       "2519  0.506784  0.487389  0.473625             1.0  ...  0.0  0.0  0.0  0.0   \n",
       "2520  0.660381  0.656215  0.655279            30.0  ...  0.0  0.0  0.0  0.0   \n",
       "2521  0.670782  0.667408  0.666732            30.0  ...  0.0  0.0  0.0  0.0   \n",
       "\n",
       "       Th    U   Np   Pu   Am   Cm  \n",
       "0     0.0  0.0  0.0  0.0  0.0  0.0  \n",
       "1     0.0  0.0  0.0  0.0  0.0  0.0  \n",
       "2     0.0  0.0  0.0  0.0  0.0  0.0  \n",
       "3     0.0  0.0  0.0  0.0  0.0  0.0  \n",
       "4     0.0  0.0  0.0  0.0  0.0  0.0  \n",
       "...   ...  ...  ...  ...  ...  ...  \n",
       "2517  0.0  0.0  0.0  0.0  0.0  0.0  \n",
       "2518  0.0  0.0  0.0  0.0  0.0  0.0  \n",
       "2519  0.0  0.0  0.0  0.0  0.0  0.0  \n",
       "2520  0.0  0.0  0.0  0.0  0.0  0.0  \n",
       "2521  0.0  0.0  0.0  0.0  0.0  0.0  \n",
       "\n",
       "[2520 rows x 224 columns]"
      ]
     },
     "execution_count": 43,
     "metadata": {},
     "output_type": "execute_result"
    }
   ],
   "source": [
    "df"
   ]
  },
  {
   "cell_type": "code",
   "execution_count": 6,
   "metadata": {},
   "outputs": [
    {
     "name": "stdout",
     "output_type": "stream",
     "text": [
      "Constant columns: ['minimum_GSbandgap', 'He', 'Ne', 'Ar', 'Kr', 'Tc', 'Xe', 'Pm', 'Po', 'At', 'Rn', 'Fr', 'Ra', 'Ac', 'Pa', 'Bk', 'Cf', 'Es', 'Fm', 'Md', 'No', 'Lr']\n",
      "Removed 22/229 constant columns\n"
     ]
    }
   ],
   "source": [
    "# check and remove constant columns\n",
    "def search_constant_columns(data):\n",
    "    constant_columns = []\n",
    "    for col in data.columns:\n",
    "        if col not in ['T_c', 'formula', 'composition']:\n",
    "            if data[col].std() == 0:\n",
    "                constant_columns += [col]\n",
    "    return constant_columns\n",
    "\n",
    "constant_columns = search_constant_columns(df)\n",
    "\n",
    "# remove constant columns in the dataset\n",
    "df.drop(constant_columns, axis=1, inplace=True)\n",
    "\n",
    "\n",
    "print('Constant columns:', constant_columns)\n",
    "print(f'Removed {len(constant_columns)}/{len(df.columns)} constant columns')"
   ]
  },
  {
   "cell_type": "code",
   "execution_count": 7,
   "metadata": {},
   "outputs": [
    {
     "name": "stdout",
     "output_type": "stream",
     "text": [
      "Before: (2520, 229)\n",
      "After: (2520, 224)\n",
      "['mean_NsValence', 'mean_NpValence', 'mean_NdValence', 'mean_NfValence', 'maximum_GSbandgap']\n",
      "Removed 5/224 duplicating columns\n"
     ]
    }
   ],
   "source": [
    "# check and remove duplicates columns\n",
    "def search_duplicates(data):\n",
    "    groups = data.columns.to_series().groupby(data.dtypes).groups\n",
    "    duplicate_columns = []\n",
    "    for type_of_col, name_of_col in groups.items():\n",
    "        cs = data[name_of_col].columns\n",
    "        vs = data[name_of_col]\n",
    "        for i in range(len(cs)):\n",
    "            ia = vs.iloc[:,i].values\n",
    "            for j in range(i + 1, len(cs)):\n",
    "                ja = vs.iloc[:,j].values\n",
    "                if np.array_equal(ia, ja):\n",
    "                    duplicate_columns += [cs[i]]\n",
    "                    break\n",
    "    return duplicate_columns\n",
    "\n",
    "duplicate_columns = search_duplicates(df)\n",
    "print('Before:', df.shape)\n",
    "df.drop(duplicate_columns, axis=1, inplace=True)\n",
    "print('After:', df.shape)\n",
    "print(duplicate_columns)\n",
    "print(f'Removed {len(duplicate_columns)}/{len(df.columns)} duplicating columns')"
   ]
  },
  {
   "cell_type": "code",
   "execution_count": 8,
   "metadata": {},
   "outputs": [],
   "source": [
    "X = df.drop(['formula', 'T_c', 'composition'], axis=1)\n",
    "y = df.T_c"
   ]
  },
  {
   "cell_type": "code",
   "execution_count": 39,
   "metadata": {},
   "outputs": [
    {
     "name": "stdout",
     "output_type": "stream",
     "text": [
      "\"formula\",\"T_c\",\"composition\",\"0-norm\",\"2-norm\",\"3-norm\",\"5-norm\",\"7-norm\",\"10-norm\",\"minimum_Number\",\"maximum_Number\",\"range_Number\",\"mean_Number\",\"avg_dev_Number\",\"mode_Number\",\"minimum_MendeleevNumber\",\"maximum_MendeleevNumber\",\"range_MendeleevNumber\",\"mean_MendeleevNumber\",\"avg_dev_MendeleevNumber\",\"mode_MendeleevNumber\",\"minimum_AtomicWeight\",\"maximum_AtomicWeight\",\"range_AtomicWeight\",\"mean_AtomicWeight\",\"avg_dev_AtomicWeight\",\"mode_AtomicWeight\",\"minimum_MeltingT\",\"maximum_MeltingT\",\"range_MeltingT\",\"mean_MeltingT\",\"avg_dev_MeltingT\",\"mode_MeltingT\",\"minimum_Column\",\"maximum_Column\",\"range_Column\",\"mean_Column\",\"avg_dev_Column\",\"mode_Column\",\"minimum_Row\",\"maximum_Row\",\"range_Row\",\"mean_Row\",\"avg_dev_Row\",\"mode_Row\",\"minimum_CovalentRadius\",\"maximum_CovalentRadius\",\"range_CovalentRadius\",\"mean_CovalentRadius\",\"avg_dev_CovalentRadius\",\"mode_CovalentRadius\",\"minimum_Electronegativity\",\"maximum_Electronegativity\",\"range_Electronegativity\",\"mean_Electronegativity\",\"avg_dev_Electronegativity\",\"mode_Electronegativity\",\"minimum_NsValence\",\"maximum_NsValence\",\"range_NsValence\",\"avg_dev_NsValence\",\"mode_NsValence\",\"minimum_NpValence\",\"maximum_NpValence\",\"range_NpValence\",\"avg_dev_NpValence\",\"mode_NpValence\",\"minimum_NdValence\",\"maximum_NdValence\",\"range_NdValence\",\"avg_dev_NdValence\",\"mode_NdValence\",\"minimum_NfValence\",\"maximum_NfValence\",\"range_NfValence\",\"avg_dev_NfValence\",\"mode_NfValence\",\"minimum_NValence\",\"maximum_NValence\",\"range_NValence\",\"mean_NValence\",\"avg_dev_NValence\",\"mode_NValence\",\"minimum_NsUnfilled\",\"maximum_NsUnfilled\",\"range_NsUnfilled\",\"mean_NsUnfilled\",\"avg_dev_NsUnfilled\",\"mode_NsUnfilled\",\"minimum_NpUnfilled\",\"maximum_NpUnfilled\",\"range_NpUnfilled\",\"mean_NpUnfilled\",\"avg_dev_NpUnfilled\",\"mode_NpUnfilled\",\"minimum_NdUnfilled\",\"maximum_NdUnfilled\",\"range_NdUnfilled\",\"mean_NdUnfilled\",\"avg_dev_NdUnfilled\",\"mode_NdUnfilled\",\"minimum_NfUnfilled\",\"maximum_NfUnfilled\",\"range_NfUnfilled\",\"mean_NfUnfilled\",\"avg_dev_NfUnfilled\",\"mode_NfUnfilled\",\"minimum_NUnfilled\",\"maximum_NUnfilled\",\"range_NUnfilled\",\"mean_NUnfilled\",\"avg_dev_NUnfilled\",\"mode_NUnfilled\",\"minimum_GSvolume_pa\",\"maximum_GSvolume_pa\",\"range_GSvolume_pa\",\"mean_GSvolume_pa\",\"avg_dev_GSvolume_pa\",\"mode_GSvolume_pa\",\"range_GSbandgap\",\"mean_GSbandgap\",\"avg_dev_GSbandgap\",\"mode_GSbandgap\",\"minimum_GSmagmom\",\"maximum_GSmagmom\",\"range_GSmagmom\",\"mean_GSmagmom\",\"avg_dev_GSmagmom\",\"mode_GSmagmom\",\"minimum_SpaceGroupNumber\",\"maximum_SpaceGroupNumber\",\"range_SpaceGroupNumber\",\"mean_SpaceGroupNumber\",\"avg_dev_SpaceGroupNumber\",\"mode_SpaceGroupNumber\",\"avg_s_valence_electrons\",\"avg_p_valence_electrons\",\"avg_d_valence_electrons\",\"avg_f_valence_electrons\",\"compound_possible\",\"max_ionic_char\",\"avg_ionic_char\",\"H\",\"Li\",\"Be\",\"B\",\"C\",\"N\",\"O\",\"F\",\"Na\",\"Mg\",\"Al\",\"Si\",\"P\",\"S\",\"Cl\",\"K\",\"Ca\",\"Sc\",\"Ti\",\"V\",\"Cr\",\"Mn\",\"Fe\",\"Co\",\"Ni\",\"Cu\",\"Zn\",\"Ga\",\"Ge\",\"As\",\"Se\",\"Br\",\"Rb\",\"Sr\",\"Y\",\"Zr\",\"Nb\",\"Mo\",\"Ru\",\"Rh\",\"Pd\",\"Ag\",\"Cd\",\"In\",\"Sn\",\"Sb\",\"Te\",\"I\",\"Cs\",\"Ba\",\"La\",\"Ce\",\"Pr\",\"Nd\",\"Sm\",\"Eu\",\"Gd\",\"Tb\",\"Dy\",\"Ho\",\"Er\",\"Tm\",\"Yb\",\"Lu\",\"Hf\",\"Ta\",\"W\",\"Re\",\"Os\",\"Ir\",\"Pt\",\"Au\",\"Hg\",\"Tl\",\"Pb\",\"Bi\",\"Th\",\"U\",\"Np\",\"Pu\",\"Am\",\"Cm\","
     ]
    }
   ],
   "source": [
    "for i in df.columns:\n",
    "    print(f'\"{i}\"', end=',')"
   ]
  },
  {
   "cell_type": "code",
   "execution_count": 10,
   "metadata": {},
   "outputs": [],
   "source": [
    "scaler = MinMaxScaler()\n",
    "X = scaler.fit_transform(X)"
   ]
  },
  {
   "cell_type": "code",
   "execution_count": 20,
   "metadata": {},
   "outputs": [
    {
     "data": {
      "text/plain": [
       "MinMaxScaler()"
      ]
     },
     "execution_count": 20,
     "metadata": {},
     "output_type": "execute_result"
    }
   ],
   "source": [
    "scaler"
   ]
  },
  {
   "cell_type": "markdown",
   "metadata": {},
   "source": [
    "# XGBoost"
   ]
  },
  {
   "cell_type": "code",
   "execution_count": 11,
   "metadata": {},
   "outputs": [],
   "source": [
    "\n",
    "from sklearn.model_selection import cross_val_score, cross_val_predict, GridSearchCV, ShuffleSplit, KFold\n",
    "from xgboost import XGBRegressor\n",
    "\n",
    "xgb_model = XGBRegressor(random_state=seed)\n",
    "\n",
    "num_folds = 10\n",
    "\n",
    "cv = ShuffleSplit(n_splits=num_folds, random_state=seed)\n",
    "\n",
    "parameters_xgb = {'max_depth' : [4, 6, 8, 10],\n",
    "              'n_estimators' : [50, 100, 200, 500],\n",
    "             'learning_rate' : [0.01, 0.05, 0.1, 0.2]}\n",
    "\n",
    "xgb_grid_search = GridSearchCV(\n",
    "                     estimator=xgb_model,\n",
    "                     param_grid=parameters_xgb,\n",
    "                     scoring='r2',\n",
    "                     cv=cv,\n",
    "                     n_jobs=-1,\n",
    "                     verbose=10)"
   ]
  },
  {
   "cell_type": "code",
   "execution_count": 12,
   "metadata": {},
   "outputs": [
    {
     "name": "stdout",
     "output_type": "stream",
     "text": [
      "Fitting 10 folds for each of 64 candidates, totalling 640 fits\n"
     ]
    },
    {
     "name": "stderr",
     "output_type": "stream",
     "text": [
      "[Parallel(n_jobs=-1)]: Using backend LokyBackend with 4 concurrent workers.\n",
      "[Parallel(n_jobs=-1)]: Done   5 tasks      | elapsed:    6.2s\n",
      "[Parallel(n_jobs=-1)]: Done  10 tasks      | elapsed:    7.9s\n",
      "[Parallel(n_jobs=-1)]: Done  17 tasks      | elapsed:   15.6s\n",
      "[Parallel(n_jobs=-1)]: Done  24 tasks      | elapsed:   24.2s\n",
      "[Parallel(n_jobs=-1)]: Done  33 tasks      | elapsed:   52.3s\n",
      "[Parallel(n_jobs=-1)]: Done  42 tasks      | elapsed:  1.2min\n",
      "[Parallel(n_jobs=-1)]: Done  53 tasks      | elapsed:  1.5min\n",
      "[Parallel(n_jobs=-1)]: Done  64 tasks      | elapsed:  1.8min\n",
      "[Parallel(n_jobs=-1)]: Done  77 tasks      | elapsed:  2.9min\n",
      "[Parallel(n_jobs=-1)]: Done  90 tasks      | elapsed:  3.3min\n",
      "[Parallel(n_jobs=-1)]: Done 105 tasks      | elapsed:  3.9min\n",
      "[Parallel(n_jobs=-1)]: Done 120 tasks      | elapsed:  5.3min\n",
      "[Parallel(n_jobs=-1)]: Done 137 tasks      | elapsed:  5.9min\n",
      "[Parallel(n_jobs=-1)]: Done 154 tasks      | elapsed:  7.4min\n",
      "[Parallel(n_jobs=-1)]: Done 173 tasks      | elapsed:  8.4min\n",
      "[Parallel(n_jobs=-1)]: Done 192 tasks      | elapsed:  9.1min\n",
      "[Parallel(n_jobs=-1)]: Done 213 tasks      | elapsed:  9.7min\n",
      "[Parallel(n_jobs=-1)]: Done 234 tasks      | elapsed: 10.7min\n",
      "[Parallel(n_jobs=-1)]: Done 257 tasks      | elapsed: 11.6min\n",
      "[Parallel(n_jobs=-1)]: Done 280 tasks      | elapsed: 13.3min\n",
      "[Parallel(n_jobs=-1)]: Done 305 tasks      | elapsed: 14.5min\n",
      "[Parallel(n_jobs=-1)]: Done 330 tasks      | elapsed: 16.3min\n",
      "[Parallel(n_jobs=-1)]: Done 357 tasks      | elapsed: 17.6min\n",
      "[Parallel(n_jobs=-1)]: Done 384 tasks      | elapsed: 18.3min\n",
      "[Parallel(n_jobs=-1)]: Done 413 tasks      | elapsed: 19.9min\n",
      "[Parallel(n_jobs=-1)]: Done 442 tasks      | elapsed: 22.2min\n",
      "[Parallel(n_jobs=-1)]: Done 473 tasks      | elapsed: 24.4min\n",
      "[Parallel(n_jobs=-1)]: Done 504 tasks      | elapsed: 25.8min\n",
      "[Parallel(n_jobs=-1)]: Done 537 tasks      | elapsed: 27.2min\n",
      "[Parallel(n_jobs=-1)]: Done 570 tasks      | elapsed: 29.1min\n",
      "[Parallel(n_jobs=-1)]: Done 605 tasks      | elapsed: 31.8min\n",
      "[Parallel(n_jobs=-1)]: Done 640 out of 640 | elapsed: 35.2min finished\n"
     ]
    },
    {
     "name": "stdout",
     "output_type": "stream",
     "text": [
      "Best score: 0.8610162193525179\n",
      "Best model: {'learning_rate': 0.1, 'max_depth': 6, 'n_estimators': 500}\n",
      "CPU times: user 27.1 s, sys: 329 ms, total: 27.4 s\n",
      "Wall time: 35min 17s\n"
     ]
    }
   ],
   "source": [
    "%%time\n",
    "xgb_grid_search.fit(X, y)\n",
    "\n",
    "print(f'Best score: {xgb_grid_search.best_score_}')\n",
    "print(f'Best model: {xgb_grid_search.best_params_}')"
   ]
  },
  {
   "cell_type": "code",
   "execution_count": 14,
   "metadata": {},
   "outputs": [],
   "source": [
    "xgb_best = xgb_grid_search.best_estimator_\n",
    "\n",
    "xgb_best.save_model('xgb_best_model.json')\n",
    "\n",
    "scaler = dump(scaler, open('scaler.pkl', 'wb'))"
   ]
  }
 ],
 "metadata": {
  "kernelspec": {
   "display_name": "Python 3",
   "language": "python",
   "name": "python3"
  },
  "language_info": {
   "codemirror_mode": {
    "name": "ipython",
    "version": 3
   },
   "file_extension": ".py",
   "mimetype": "text/x-python",
   "name": "python",
   "nbconvert_exporter": "python",
   "pygments_lexer": "ipython3",
   "version": "3.8.6"
  }
 },
 "nbformat": 4,
 "nbformat_minor": 4
}
