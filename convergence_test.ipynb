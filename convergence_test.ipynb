{
 "cells": [
  {
   "cell_type": "code",
   "execution_count": 1,
   "id": "f2be6e22",
   "metadata": {},
   "outputs": [],
   "source": [
    "from pymatgen.core import Structure\n",
    "from pymatgen.io.vasp.inputs import Poscar, Incar, Kpoints\n",
    "from pymatgen.io.vasp.sets import MPRelaxSet, MPStaticSet\n",
    "from src.file_builder import create_job_script\n",
    "import os\n",
    "\n",
    "def submit_all_jobs(input_path:str, submit_path:str) -> None:\n",
    "    submit_full_path = os.path.join(input_path, submit_path)\n",
    "    initial_path = os.getcwd()\n",
    "    for folder_name in os.listdir(submit_full_path):\n",
    "        os.chdir(initial_path)\n",
    "        tmp_path = os.path.join(submit_full_path, folder_name)\n",
    "        os.chdir(tmp_path)\n",
    "        os.system('sbatch jobscript.sh')\n",
    "    os.chdir(initial_path)\n",
    "\n",
    "def get_ecut_files(input_path: str)-> None:\n",
    "    ecut_opt_path = os.path.join(input_path, 'encut')\n",
    "    if not os.path.exists(ecut_opt_path):\n",
    "        os.mkdir(ecut_opt_path)\n",
    "    structure = Structure.from_file(os.path.join(input_path, 'POSCAR'))\n",
    "    for ecut in range(500, 1000, 20):\n",
    "        user_settings = {'ENCUT' : ecut,'EDIFF' : 1E-7, 'NCORE': 4,\n",
    "                         'LDAU' : False,\n",
    "                         'LVHAR' : False,\n",
    "                         'LCHARG': False,\n",
    "                         'LAECHG' : False,\n",
    "                         'LASPH' : False}\n",
    "        ecut_path = os.path.join(input_path, 'encut', str(ecut))\n",
    "        if not os.path.exists(ecut_path):\n",
    "            os.mkdir(ecut_path)\n",
    "        static_set = MPStaticSet(structure, user_incar_settings=user_settings)\n",
    "        static_set.get_vasp_input().write_input(ecut_path)\n",
    "        create_job_script(out_path=ecut_path, ntasks=24)\n",
    "\n",
    "input_path = 'examples/Fe2O3/'\n",
    "get_ecut_files(input_path)\n",
    "submit_all_jobs(input_path=input_path, submit_path='encut')"
   ]
  },
  {
   "cell_type": "code",
   "execution_count": null,
   "id": "a162599d",
   "metadata": {},
   "outputs": [],
   "source": []
  }
 ],
 "metadata": {
  "kernelspec": {
   "display_name": "Python 3 (ipykernel)",
   "language": "python",
   "name": "python3"
  },
  "language_info": {
   "codemirror_mode": {
    "name": "ipython",
    "version": 3
   },
   "file_extension": ".py",
   "mimetype": "text/x-python",
   "name": "python",
   "nbconvert_exporter": "python",
   "pygments_lexer": "ipython3",
   "version": "3.8.6"
  }
 },
 "nbformat": 4,
 "nbformat_minor": 5
}
