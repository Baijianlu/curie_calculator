{
 "cells": [
  {
   "cell_type": "code",
   "execution_count": null,
   "id": "16cd1e89",
   "metadata": {},
   "outputs": [],
   "source": [
    "import os\n",
    "from pymatgen.core import Structure\n",
    "from pymatgen.io.vasp.inputs import Poscar, Incar, Kpoints\n",
    "from pymatgen.io.vasp.sets import MPRelaxSet, MPStaticSet\n",
    "from src.file_builder import create_job_script\n",
    "from src.solver import energy_list_getter, find_good_structures\n",
    "import matplotlib.pyplot as plt\n",
    "import numpy as np\n",
    "plt.style.use('ggplot')\n",
    "\n",
    "def submit_all_jobs(input_path:str, submit_path:str) -> None:\n",
    "    submit_full_path = os.path.join(input_path, submit_path)\n",
    "    initial_path = os.getcwd()\n",
    "    for folder_name in os.listdir(submit_full_path):\n",
    "        os.chdir(initial_path)\n",
    "        tmp_path = os.path.join(submit_full_path, folder_name)\n",
    "        os.chdir(tmp_path)\n",
    "        os.system('sbatch jobscript.sh')\n",
    "    os.chdir(initial_path)\n",
    "\n",
    "def get_ecut_files(input_path: str, ecut_range: list)-> None:\n",
    "    ecut_opt_path = os.path.join(input_path, 'encut')\n",
    "    if not os.path.exists(ecut_opt_path):\n",
    "        os.mkdir(ecut_opt_path)\n",
    "    structure = Structure.from_file(os.path.join(input_path, 'POSCAR'))\n",
    "    for ecut in ecut_range:\n",
    "        user_settings = {'ENCUT' : ecut,'EDIFF' : 1E-7, 'NCORE': 4,\n",
    "                         'LDAU' : False,\n",
    "                         'LVHAR' : False,\n",
    "                         'LCHARG': False,\n",
    "                         'LAECHG' : False,\n",
    "                         'LASPH' : False}\n",
    "        ecut_path = os.path.join(input_path, 'encut', str(ecut))\n",
    "        if not os.path.exists(ecut_path):\n",
    "            os.mkdir(ecut_path)\n",
    "        static_set = MPStaticSet(structure, user_incar_settings=user_settings)\n",
    "        static_set.get_vasp_input().write_input(ecut_path)\n",
    "        create_job_script(out_path=ecut_path, ntasks=24)\n",
    "\n",
    "\n",
    "def en_per_atom_list(input_path: str)-> list:\n",
    "    _, struct_list = find_good_structures(input_path, folder='encut') # TODO: rewrite\n",
    "    struct_list = sorted(struct_list)\n",
    "    ecut_opt_path = os.path.join(input_path, 'encut')\n",
    "    folder_list = os.listdir(ecut_opt_path)\n",
    "    initial_atoms_num = len(Structure.from_file(os.path.join(input_path, 'POSCAR')))\n",
    "    en_tot_list = energy_list_getter(struct_list, initial_atoms_num)\n",
    "    en_per_atom = en_tot_list / initial_atoms_num\n",
    "    return en_per_atom\n",
    "\n",
    "\n",
    "def get_ecut(en_per_atom: list, ecut_range)-> int:\n",
    "    y = np.diff(en_per_atom * 1000) #diff in meV\n",
    "    x = ecut_range[1:]\n",
    "    Ecut = x[np.argmin(abs(y))]\n",
    "    return Ecut\n",
    "\n",
    "def plot_encut(input_path: str, en_per_atom: list, ecut_range: list)-> None:\n",
    "    x = ecut_range\n",
    "    y = en_per_atom * 1000 # to meV\n",
    "    Ecut = get_ecut(en_per_atom, ecut_range)\n",
    "    i = list(ecut_range).index(Ecut)\n",
    "    plt.figure(figsize=(12, 6), dpi=200)\n",
    "    plt.scatter(x, y, c='b')\n",
    "    plt.scatter(x[i], y[i], s=200, c='r')\n",
    "    plt.ylabel('E/atom, meV')\n",
    "    plt.xlabel('Encut, eV')\n",
    "    plt.xticks(x, rotation=45, ha='right')\n",
    "    plt.savefig(os.path.join(input_path, 'Encut.pdf'), bbox_inches='tight')"
   ]
  },
  {
   "cell_type": "code",
   "execution_count": 69,
   "id": "f2be6e22",
   "metadata": {},
   "outputs": [],
   "source": [
    "# get_ecut_files(input_path)\n",
    "# submit_all_jobs(input_path=input_path, submit_path='encut')"
   ]
  },
  {
   "cell_type": "code",
   "execution_count": 78,
   "id": "e5b9bf4d",
   "metadata": {},
   "outputs": [
    {
     "name": "stderr",
     "output_type": "stream",
     "text": [
      "100%|███████████████████████████████████████████| 25/25 [00:21<00:00,  1.14it/s]\n"
     ]
    }
   ],
   "source": [
    "input_path = 'examples/Fe2O3/'\n",
    "ecut_range = np.arange(500, 1000, 20)\n",
    "en_per_atom = en_per_atom_list(input_path)\n",
    "Ecut = get_ecut(en_per_atom, ecut_range)\n",
    "plot_encut(input_path, en_per_atom, ecut_range=ecut_range)"
   ]
  },
  {
   "cell_type": "code",
   "execution_count": null,
   "id": "c1ce1081",
   "metadata": {},
   "outputs": [],
   "source": []
  }
 ],
 "metadata": {
  "kernelspec": {
   "display_name": "Python 3 (ipykernel)",
   "language": "python",
   "name": "python3"
  },
  "language_info": {
   "codemirror_mode": {
    "name": "ipython",
    "version": 3
   },
   "file_extension": ".py",
   "mimetype": "text/x-python",
   "name": "python",
   "nbconvert_exporter": "python",
   "pygments_lexer": "ipython3",
   "version": "3.8.6"
  }
 },
 "nbformat": 4,
 "nbformat_minor": 5
}
