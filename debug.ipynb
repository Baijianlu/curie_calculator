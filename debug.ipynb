{
 "cells": [
  {
   "cell_type": "code",
   "execution_count": 16,
   "metadata": {},
   "outputs": [],
   "source": [
    "import ase.io.vasp\n",
    "import os\n",
    "import siman\n",
    "from siman.calc_manage import smart_structure_read"
   ]
  },
  {
   "cell_type": "code",
   "execution_count": 17,
   "metadata": {},
   "outputs": [],
   "source": [
    "cell = ase.io.vasp.read_vasp(\"nio_Jcoupl/POSCAR\")\n",
    "ase.io.vasp.write_vasp('nio_Jcoupl/POSCAR_2', cell * (2,2,2), label='222supercell',direct=True,sort=True)"
   ]
  },
  {
   "cell_type": "code",
   "execution_count": 18,
   "metadata": {},
   "outputs": [],
   "source": [
    "def count_nn(path_to_poscar, magnetic_atoms):\n",
    "    \"\"\"\n",
    "    calculated the number of nearest neighbors,\n",
    "    to fit into the Heisenberg model.\n",
    "    Get a path to POSCAR structure as an input, \n",
    "    To avoid errors one should use prettified POSCAR,\n",
    "    use poscar_prettifier() function first.\n",
    "    \n",
    "    Args:\n",
    "        poscar_path   (str) - path to the POSCAR file\n",
    "        magnetic_atoms(list) - two type of atoms to be treated as a magnetic\n",
    "                            with an opposite spins (up/down).\n",
    "                            your POSCAR should contain this two types of atoms.\n",
    "    Returns:\n",
    "        dict(distance : number_of_neibours) \n",
    "    \"\"\"\n",
    "    if not os.path.exists(path_to_poscar):\n",
    "        print(f'File {path_to_poscar} does not exist!')\n",
    "        return None\n",
    "    st = smart_structure_read(path_to_poscar)\n",
    "    st = st.replic([6, 6, 6])\n",
    "    out = st.nn(i = 1, n = 50, silent=1)\n",
    "    \n",
    "    a = list(zip(out['el'][1:], out['dist'][1:]))\n",
    "    unique_dist = set(round(i[1], 3) for i in a if i[0] in magnetic_atoms) #collect all the unique distances\n",
    "    magnetic_dist_lst = [(el, round(dist, 3)) for el, dist in a if el in magnetic_atoms]\n",
    "\n",
    "    dist_neighbNum = {_: 0 for _ in unique_dist} #key- distane, value list of \n",
    "                                                #neighbours at 1st 2nd 3d coordination spheres\n",
    "\n",
    "    for dist in unique_dist:\n",
    "        for el, distance in magnetic_dist_lst:\n",
    "            if dist == distance:\n",
    "                if el == magnetic_atoms[0]:\n",
    "                    dist_neighbNum[dist] += 1\n",
    "                elif el == magnetic_atoms[1]:\n",
    "                    dist_neighbNum[dist] -= 1\n",
    "    return dist_neighbNum"
   ]
  },
  {
   "cell_type": "code",
   "execution_count": 21,
   "metadata": {},
   "outputs": [],
   "source": [
    "st = smart_structure_read('nio_Jcoupl/POSCAR_2')\n",
    "st = st.replic([6, 6, 6])\n",
    "out = st.nn(i = 1, n = 50, silent=1)"
   ]
  },
  {
   "cell_type": "code",
   "execution_count": 20,
   "metadata": {},
   "outputs": [
    {
     "data": {
      "text/plain": [
       "{2.949: -4, 4.17: -6}"
      ]
     },
     "execution_count": 20,
     "metadata": {},
     "output_type": "execute_result"
    }
   ],
   "source": [
    "count_nn('nio_Jcoupl/POSCAR_2', magnetic_atoms=['Ni','Co'])"
   ]
  },
  {
   "cell_type": "code",
   "execution_count": null,
   "metadata": {},
   "outputs": [],
   "source": []
  }
 ],
 "metadata": {
  "kernelspec": {
   "display_name": "Python 3",
   "language": "python",
   "name": "python3"
  },
  "language_info": {
   "codemirror_mode": {
    "name": "ipython",
    "version": 3
   },
   "file_extension": ".py",
   "mimetype": "text/x-python",
   "name": "python",
   "nbconvert_exporter": "python",
   "pygments_lexer": "ipython3",
   "version": "3.8.6"
  }
 },
 "nbformat": 4,
 "nbformat_minor": 4
}
