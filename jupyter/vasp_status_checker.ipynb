{
 "cells": [
  {
   "cell_type": "code",
   "execution_count": 2,
   "metadata": {},
   "outputs": [],
   "source": [
    "import os\n",
    "from pymatgen.io.vasp.outputs import Vasprun\n",
    "import numpy as np\n",
    "import warnings\n",
    "from time import sleep\n",
    "warnings.filterwarnings(\"ignore\")"
   ]
  },
  {
   "cell_type": "code",
   "execution_count": 3,
   "metadata": {},
   "outputs": [],
   "source": [
    "input_path = 'examples/EuO_2/'"
   ]
  },
  {
   "cell_type": "code",
   "execution_count": 5,
   "metadata": {},
   "outputs": [],
   "source": [
    "def vasprun_checker(input_path):\n",
    "    vasp_inputs_path = os.path.join(input_path, 'vasp_inputs')\n",
    "    vasprun_pathes = sorted([os.path.join(vasp_inputs_path, i, 'vasprun.xml') for i in os.listdir(vasp_inputs_path)])\n",
    "    tmp_vasprun = vasprun_pathes.copy()\n",
    "    while 1:\n",
    "        print(len(vasprun_pathes))\n",
    "        for i, vasprun_path in enumerate(vasprun_pathes):\n",
    "            print(i + 1, end=' ')\n",
    "            if os.path.exists(vasprun_path):\n",
    "                try:\n",
    "                    vasprun = Vasprun(vasprun_path, parse_dos=False, parse_eigen=False, exception_on_bad_xml=False)\n",
    "                    if vasprun.converged:\n",
    "                        print(f'Converged! {vasprun_path}')\n",
    "                        tmp_vasprun.remove(vasprun_path)\n",
    "                    else:\n",
    "                        print(f'Not converged! {vasprun_path}')\n",
    "                        tmp_vasprun.remove(vasprun_path)\n",
    "                except Exception:\n",
    "                    print('Still running')\n",
    "                    \n",
    "        vasprun_pathes = tmp_vasprun.copy()\n",
    "        print('\\n')\n",
    "        sleep(20)\n",
    "        if not vasprun_pathes:\n",
    "            print('All done!')\n",
    "            break"
   ]
  },
  {
   "cell_type": "code",
   "execution_count": 4,
   "metadata": {
    "scrolled": true
   },
   "outputs": [],
   "source": [
    "vasp_inputs_path = os.path.join(input_path, 'vasp_inputs')"
   ]
  },
  {
   "cell_type": "code",
   "execution_count": 6,
   "metadata": {},
   "outputs": [
    {
     "data": {
      "text/plain": [
       "'vasp_inputs'"
      ]
     },
     "execution_count": 6,
     "metadata": {},
     "output_type": "execute_result"
    }
   ],
   "source": [
    "os.path.basename(vasp_inputs_path)"
   ]
  },
  {
   "cell_type": "code",
   "execution_count": null,
   "metadata": {},
   "outputs": [],
   "source": [
    "def static_changer(in_path : str):\n",
    "    \"\"\"\n",
    "    1. Replace INCAR relax for INCAR_stat\n",
    "    2. Replace POSCAR with relaxed CONTCAR\n",
    "    \n",
    "    \n",
    "    Namely prepare the folder for more accurate run of VASP\n",
    "    for total energy estimation.\n",
    "    \"\"\"\n",
    "    pass"
   ]
  }
 ],
 "metadata": {
  "kernelspec": {
   "display_name": "Python 3",
   "language": "python",
   "name": "python3"
  },
  "language_info": {
   "codemirror_mode": {
    "name": "ipython",
    "version": 3
   },
   "file_extension": ".py",
   "mimetype": "text/x-python",
   "name": "python",
   "nbconvert_exporter": "python",
   "pygments_lexer": "ipython3",
   "version": "3.8.6"
  }
 },
 "nbformat": 4,
 "nbformat_minor": 4
}
