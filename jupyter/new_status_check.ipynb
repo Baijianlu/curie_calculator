{
 "cells": [
  {
   "cell_type": "code",
   "execution_count": 1,
   "metadata": {},
   "outputs": [],
   "source": [
    "import os\n",
    "from shutil import copy\n",
    "\n",
    "def stat_swp(calc_fold : str) -> None:\n",
    "    log_path = os.path.join(calc_fold, 'log')\n",
    "    log_path_relax = os.path.join(calc_fold, 'log_relax')\n",
    "    conctcar_path = os.path.join(calc_fold, 'CONTCAR')\n",
    "    poscar_path = os.path.join(calc_fold, 'POSCAR')\n",
    "    incar_relax_path = os.path.join(calc_fold, 'INCAR_relax')\n",
    "    incar_stat_path = os.path.join(calc_fold, 'INCAR_stat')\n",
    "    incar_path = os.path.join(calc_fold, 'INCAR')\n",
    "    copy(log_path, log_path_relax) # log -> log_relax\n",
    "    copy(conctcar_path, poscar_path) # CONTCAR -> POSCAR\n",
    "    copy(incar_path, incar_relax_path) # INCAR -> INCAR_relax\n",
    "    copy(incar_stat_path, incar_path) # INCAR_stat -> INCAR\n",
    "\n",
    "def non_conv_swp(calc_fold : str) -> None:\n",
    "    conctcar_path = os.path.join(calc_fold, 'CONTCAR')\n",
    "    poscar_path = os.path.join(calc_fold, 'POSCAR')\n",
    "    copy(conctcar_path, poscar_path) # CONTCAR -> POSCAR\n",
    "\n",
    "input_path = '../examples/EuO_2/'\n",
    "\n",
    "\n",
    "def swaper(input_path):\n",
    "    initial_path = os.getcwd()\n",
    "    converged_msg = ' reached required accuracy - stopping structural energy minimisation'\n",
    "    swp_msg = 'to POSCAR and continue'\n",
    "    vasp_inputs_path = os.path.join(input_path, 'vasp_inputs')\n",
    "    for folder in os.listdir(vasp_inputs_path):\n",
    "        calc_fold = os.path.join(vasp_inputs_path, folder)\n",
    "        if os.path.isdir(calc_fold):\n",
    "            log_path = os.path.join(calc_fold, 'log')\n",
    "            with open(log_path) as log_f:\n",
    "                log_text = log_f.readlines()\n",
    "                last_line = log_text[-1]\n",
    "                if converged_msg in last_line:\n",
    "                    stat_swp(calc_fold = calc_fold)\n",
    "                    print('Converged', calc_fold)\n",
    "                    os.chdir(calc_fold)\n",
    "                    os.system('sbatch jobscript.sh')\n",
    "                    os.chdir(initial_path)\n",
    "                elif swp_msg in last_line:\n",
    "                    print('Need swap')\n",
    "                    non_conv_swp(calc_fold)\n",
    "                    os.chdir(calc_fold)\n",
    "                    os.system('sbatch jobscript.sh')\n",
    "                    os.chdir(initial_path)\n",
    "\n",
    "if __name__=='__main__':\n",
    "    swaper(input_path)"
   ]
  }
 ],
 "metadata": {
  "kernelspec": {
   "display_name": "Python 3",
   "language": "python",
   "name": "python3"
  },
  "language_info": {
   "codemirror_mode": {
    "name": "ipython",
    "version": 3
   },
   "file_extension": ".py",
   "mimetype": "text/x-python",
   "name": "python",
   "nbconvert_exporter": "python",
   "pygments_lexer": "ipython3",
   "version": "3.8.6"
  }
 },
 "nbformat": 4,
 "nbformat_minor": 4
}
