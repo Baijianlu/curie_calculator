{
 "cells": [
  {
   "cell_type": "code",
   "execution_count": 8,
   "metadata": {},
   "outputs": [],
   "source": [
    "from curie_calculator import input_reader\n",
    "from solver import get_results\n",
    "from plotter import plot_E_geom, plot_E_tot, plot_TCs\n",
    "\n",
    "input_folder,num_of_structures, magnetic_atoms, spin = input_reader()\n",
    "\n",
    "out_dict = get_results(input_folder, num_of_structures, magnetic_atoms, spin)\n",
    "\n",
    "plot_E_tot(out_dict['energies_afm'], out_dict['nn_matrix'], input_folder)\n",
    "\n",
    "plot_TCs(out_dict['Tc_list'], input_folder)\n",
    "\n",
    "plot_E_geom(out_dict['Eg_list'], out_dict['combination_list'], input_folder)"
   ]
  },
  {
   "cell_type": "code",
   "execution_count": null,
   "metadata": {},
   "outputs": [],
   "source": []
  }
 ],
 "metadata": {
  "kernelspec": {
   "display_name": "Python 3",
   "language": "python",
   "name": "python3"
  },
  "language_info": {
   "codemirror_mode": {
    "name": "ipython",
    "version": 3
   },
   "file_extension": ".py",
   "mimetype": "text/x-python",
   "name": "python",
   "nbconvert_exporter": "python",
   "pygments_lexer": "ipython3",
   "version": "3.8.6"
  }
 },
 "nbformat": 4,
 "nbformat_minor": 4
}
